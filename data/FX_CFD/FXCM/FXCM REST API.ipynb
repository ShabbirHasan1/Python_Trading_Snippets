{
 "cells": [
  {
   "cell_type": "markdown",
   "metadata": {},
   "source": [
    "# Using FXCM’s REST API to automate your strategies using Python."
   ]
  },
  {
   "cell_type": "markdown",
   "metadata": {},
   "source": [
    "You can find documentation and tutorials for other languages by visiting FXCM’s Github."
   ]
  },
  {
   "cell_type": "markdown",
   "metadata": {},
   "source": [
    "Once open, search the ‘environments’ tab to find out if the necessary packages have already been installed. \n",
    "\n",
    "Requests and Pandas should already be installed, but the SocketIO library is to be installed separately: \n",
    "launch the Anaconda Prompt and type hitting enter in the end:\n",
    "\n",
    "    pip install -U socketIO-client"
   ]
  },
  {
   "cell_type": "markdown",
   "metadata": {},
   "source": [
    "To get an API token you will need an FXCM account: \n",
    "1. on  www.fxcm.com register for a free practice account by clicking Try Demo\n",
    "2. complete the registration form with your information and \n",
    "3. click Trade Now to generate your practice account credentials, which will be sent to you via email. \n",
    "4. navigate to https://tradingstation.fxcm.com/ and enter your newly created login and password. \n",
    "5. once the platform has loaded, locate the button showing your login ID in the upper right corner. \n",
    "6. click this button and then click on token management and enter your password once again. \n",
    "7. clicking on generate token will create your authentication token for the REST API."
   ]
  },
  {
   "cell_type": "markdown",
   "metadata": {},
   "source": [
    "Open a Jupyter Notebook through the Anaconda Prompt:\n",
    "\"jupyter notebook\" "
   ]
  },
  {
   "cell_type": "code",
   "execution_count": null,
   "metadata": {},
   "outputs": [],
   "source": [
    "import pandas as pd\n",
    "import json\n",
    "import requests\n",
    "from socketIO_client import SocketIO"
   ]
  },
  {
   "cell_type": "code",
   "execution_count": null,
   "metadata": {},
   "outputs": [],
   "source": [
    "# define our static connection information.  \n",
    "\n",
    "TRADING_API_URL = 'https://api-demo.fxcm.com:443' # live environment address is in our REST API doc\n",
    "WEBSOCKET_PORT = 443 # our websocket port\n",
    "ACCESS_TOKEN = '3a047ccac7653cf794ad8622b89fa1926e0e05df'"
   ]
  },
  {
   "cell_type": "code",
   "execution_count": null,
   "metadata": {},
   "outputs": [],
   "source": [
    "# Definitions for SocketIO events\n",
    "\n",
    "# creation of 2 methods\n",
    "def on_connect():\n",
    "    print('Websocket Connected: ' + socketIO._engineIO_session.id)\n",
    "\n",
    "def on_close():\n",
    "        print('Websocket Closed.')\n",
    "\n",
    "# initialize SocketIO\n",
    "socketIO =  SocketIO(TRADING_API_URL, WEBSOCKET_PORT, params={'access_token' : ACCESS_TOKEN})\n",
    "\n",
    "socketIO.on('connect', on_connect)\n",
    "socketIO.on('disconnect', on_close)\n",
    "\n",
    "bearer_access_token = \"Bearer \" + socketIO._engineIO_session.id + ACCESS_TOKEN"
   ]
  },
  {
   "cell_type": "code",
   "execution_count": null,
   "metadata": {},
   "outputs": [],
   "source": [
    "# If we were assigned a bearer access token => we have successfully authenticated! \n",
    "# It should end up looking like this: Bearer nxdwUTW_ylimTxEqABi13a047ccac7653cf794ad8622b89fa1926e0e05df\n",
    "\n",
    "print(bearer_access_token) # see if we were successful  "
   ]
  },
  {
   "cell_type": "markdown",
   "metadata": {},
   "source": [
    "## Pulling Historical Pricing"
   ]
  },
  {
   "cell_type": "code",
   "execution_count": null,
   "metadata": {},
   "outputs": [],
   "source": [
    "# specifications for types of data: https://github.com/fxcm/RestAPI\n",
    "\n",
    "hist_response = requests.get( # send our request using the “GET” request\n",
    "                             TRADING_API_URL + method, # specify the type of data we want to pull\n",
    "                             headers = {\n",
    "                                 'User-Agent': 'request',\n",
    "                                 'Authorization': bearer_access_token,\n",
    "                                 'Accept': 'application/json',\n",
    "                                 'Content-Type': 'application/x-wwww-form-urlencoded'\n",
    "                             },\n",
    "                             params = {\n",
    "                                 'num': 1000,\n",
    "                                 'from': 1494086400,\n",
    "                                 'to': 1503835200\n",
    "                             })\n",
    "\n",
    "if hist_response.status_code == 200: # response of “200” means success  \n",
    "    print (\"Data retrieved...\")\n",
    "    hist_data = hist_response.json() # use json to decode the information sent back to us\n",
    "    candle_data = hist_data['candles']\n",
    "    df = pd.DataFrame(candle_data)\n",
    "    df.columns = [\"time\",\n",
    "                  \"bidopen\", \"bidclose\", \"bidhigh\", \"bidlow\", \n",
    "                  \"askopen\", \"askclose\", \"askhigh\", \"asklow\", \n",
    "                  \"TickQty\"]\n",
    "    df['time'] = pd.to_datetime(df['time'], unit='s') # column TIME goes in Epoch time, so we need to convert\n",
    "    print(df)\n",
    "else: # response of “400” means error  \n",
    "    print(hist_response)"
   ]
  },
  {
   "cell_type": "markdown",
   "metadata": {},
   "source": [
    "## Streaming Real-Time Prices"
   ]
  },
  {
   "cell_type": "code",
   "execution_count": null,
   "metadata": {},
   "outputs": [],
   "source": [
    "method = '/subscribe'\n",
    "\n",
    "sub_response = requests.post( # this time is post request\n",
    "                             TRADING_API_URL + method,\n",
    "                             headers = {\n",
    "                                 'User-Agent': 'request',\n",
    "                                 'Authorization': bearer_access_token,\n",
    "                                 'Accept': 'application/json',\n",
    "                                 'Content-Type': 'application/x-www-form-urlencoded'\n",
    "                             },\n",
    "                             data = { # instead of sending parameters ...\n",
    "                                 'pairs': 'EUR/USD' # ... sending the currency pair we want to subscribe to\n",
    "                             })\n",
    "\n",
    "print(sub_response)\n",
    "print(sub_response.json())\n",
    "\n",
    "\n",
    "\n",
    "# Pulling a single rate at a time can work; however, it’s not ideal.  \n",
    "\n",
    "\n",
    "def on_price_update(msg): # for getting updates as soon as they’re available\n",
    "    response = json.loads(msg)\n",
    "    print(response)\n",
    "   \n",
    "if sub_response.status_code == 200:\n",
    "    socketIO.on('EUR/USD', on_price_update) # create a subscription\n",
    "    socketIO.wait() # subscribe to EUR/USD ticks"
   ]
  },
  {
   "cell_type": "markdown",
   "metadata": {},
   "source": [
    "# fxcmpy "
   ]
  },
  {
   "cell_type": "markdown",
   "metadata": {},
   "source": [
    "https://www.fxcm.com/fxcmpy/index.html\n",
    "\n",
    "Python wrapper: connecting to and using FXCM’s REST API \n",
    "\n",
    "pip install fxcmpy # all dependencies of the wrapper will automatically be installed\n",
    "pip install fxcmpy –upgrade # regularly check for new versions \n",
    "\n",
    "\n",
    "In order to connect to the FXCM REST API via the fxcmpy Python wrapper, \n",
    "we will need to define a few settings about the connection and our credentials for logging in. \n",
    "To create a configuration file, we can utilize a simple text editor (such as notepad on Windows) \n",
    "and enter the following information:\n",
    "\n",
    "[FXCM]\n",
    "log_level = error\n",
    "log_file = PATH_TO_AND_NAME_OF_LOG_FILE\n",
    "access_token = YOUR_FXCM_API_TOKEN\n",
    "\n",
    "For this article, we will save this file as fxcm.cfg \n",
    "and will save it in the same directory as our main program \n",
    "so that we only need to pass the fxcm.cfg file name as a parameter when connecting to REST API."
   ]
  },
  {
   "cell_type": "code",
   "execution_count": null,
   "metadata": {},
   "outputs": [],
   "source": [
    "import fxcmpy \n",
    "con = fxcmpy.fxcmpy(config_file='fxcm.cfg', server='demo') # for live account: ‘real’\n",
    "\n",
    "con.get_instruments() # view all instruments that you can subscribe to on your account\n",
    "con.get_instruments_for_candles() # instruments that you are currently subscribed to \n",
    "\n",
    "data = con.get_candles('GBP/JPY', period='D1') \n",
    "# Available periods for pulling historical data are: \n",
    "# ‘m1’, ‘m5’, ‘m15’, ‘m30’, ‘H1’, ‘H2’, ‘H3’, ‘H4’, ‘H6’, ‘H8′,’D1’, ‘W1’, or ‘M1’\n",
    "\n",
    "data = con.get_candles('EUR/USD', period = 'm1', number = 5)\n",
    "\n",
    "import datetime  as dt\n",
    "start = dt.datetime(2018, 1, 1)\n",
    "stop = dt.datetime(2018, 1, 30)\n",
    "data = con.get_candles('EUR/USD', period = 'D1', start = start, stop = stop)\n",
    "\n",
    "con.subscribe_market_data('EUR/USD')\n",
    "data = con.get_prices('EUR/USD') # Streaming real-time prices\n",
    "con.unsubscribe_market_data('EUR/USD') # unsubscribe\n",
    " \n",
    "\n",
    "con.get_open_positions()# information on existing orders\n",
    "con.create_market_buy_order('USD/JPY', (10) # instrument and the size of the order (in micro lots) \n",
    "con.create_market_sell_order('EUR/USD', (100)\n",
    "\n",
    "\n",
    "# Good-Til-Canceled market order to buy 10k worth of GBP/JPY with a limit at the market price of 150.00:\n",
    "con.open_trade(symbol = 'GBP/JPY', \n",
    "               is_buy = True, \n",
    "               rate = 105, \n",
    "               is_in_pips = False, \n",
    "               amount = 10,\n",
    "               time_in_force = 'GTC', \n",
    "               order_type = 'AtMarket',\n",
    "               limit = 150)\n",
    "\n",
    "con.create_entry_order(symbol = 'GBP/JPY', \n",
    "                       is_buy = True, \n",
    "                       amount = 10, \n",
    "                       limit = 150, \n",
    "                       is_in_pips = False, \n",
    "                       time_in_force = 'GTC',\n",
    "                       rate = 105)\n",
    "\n",
    "\n",
    "id = con.get_order_ids()[-1]\n",
    "con.change_order_stop_limit(order_id = id, limit = 140)\n",
    "con.change_order(order_id = id, amount = 100, rate = 110)\n",
    "\n",
    "con.delete_order(id)\n",
    "\n",
    "pos = con.get_open_position(id) # close a single position\n",
    "pos.close()\n",
    "\n",
    "con.close_all_for_symbol('GBP/JPY')\n",
    "\n",
    "con.close_all()"
   ]
  },
  {
   "cell_type": "markdown",
   "metadata": {},
   "source": [
    "# EMA Crossover strategy"
   ]
  },
  {
   "cell_type": "markdown",
   "metadata": {},
   "source": [
    "https://github.com/fxcm/RestAPI/blob/master/Python-Backtest_Examples/EMA%20Crossover%20Strategy%20backtest.py"
   ]
  },
  {
   "cell_type": "code",
   "execution_count": null,
   "metadata": {},
   "outputs": [],
   "source": [
    "import fxcmpy \n",
    "import pandas as pd\n",
    "import numpy as np\n",
    "import datetime as dt\n",
    "import matplotlib.pyplot as plt\n",
    "%matplotlib inline\n",
    "from pyti.exponential_moving_average import exponential_moving_average as ema\n",
    "\n",
    "con = fxcmpy.fxcmpy(config_file='fxcm.cfg') # file contains settings to connect to the FXCM REST API \n",
    "\n",
    "df = con.get_candles('GBP/JPY', period = 'D1', \n",
    "                     start = dt.datetime(2016, 1, 1), \n",
    "                     end = dt.datetime(2018, 6, 10))\n",
    "\n",
    "df['difference (pips)'] = (df['askclose'] - df['askopen']) * 100 # convert the daily returns into pips while JPY\n",
    "\n",
    "ema_fast = 12\n",
    "ema_slow = 20\n",
    "df['ema_fast'] = ema(df['askclose'], ema_fast) # from the pyti library\n",
    "df['ema_slow'] = ema(df['askclose'], ema_slow)\n",
    "\n",
    "# When the Fast EMA crosses above the Slow EMA a buy order will be triggered\n",
    "df['position'] = np.where(df['ema_fast'] > df['ema_slow'],1,0) \n",
    "df['signal'] = df['position'].diff()\n",
    "\n",
    "\n",
    "pip_cost = .0879\n",
    "lot_size = 10\n",
    "Returns = 0\n",
    "CountPL=False\n",
    "for i, row in df.iterrows():\n",
    "    if CountPL==True:\n",
    "        returns += (row['difference (pips)'] * pip_cost * lot_size)\n",
    "        df.loc[i,'total'] = returns\n",
    "    else:\n",
    "        df.loc[i,'total'] = returns\n",
    " \n",
    "    if row['position'] == 1:\n",
    "        CountPL=True\n",
    "    else:\n",
    "        CountPL=False\n",
    "\n",
    "fig = plt.figure(figsize=(12,8))\n",
    "ax1 = fig.add_subplot(111,  ylabel='GBP/JPY Price')\n",
    "df['ask_close'].plot(ax=ax1, color='r', lw=1)\n",
    "df[['ema_fast','ema_slow']].plot(ax=ax1, lw=2)\n",
    "ax1.plot(df.loc[df.position == 1.0].index, \n",
    "         df.ema_fast[df.position == 1.0],\n",
    "         '^', markersize=10, color='m' )\n",
    "ax1.plot(df.loc[df.position == -1.0].index, \n",
    "         df.ema_slow[df.position == -1.0],\n",
    "         'v', markersize=10, color='k')\n",
    "ax2 = ax1.twinx()\n",
    "ax2.set_ylabel('Profits in $')\n",
    "ax2.plot(df['total'], color = 'green')\n",
    "plt.show()"
   ]
  }
 ],
 "metadata": {
  "kernelspec": {
   "display_name": "Python 3",
   "language": "python",
   "name": "python3"
  },
  "language_info": {
   "codemirror_mode": {
    "name": "ipython",
    "version": 3
   },
   "file_extension": ".py",
   "mimetype": "text/x-python",
   "name": "python",
   "nbconvert_exporter": "python",
   "pygments_lexer": "ipython3",
   "version": "3.6.5"
  }
 },
 "nbformat": 4,
 "nbformat_minor": 2
}