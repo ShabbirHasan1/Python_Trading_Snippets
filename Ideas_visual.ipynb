{
 "cells": [
  {
   "cell_type": "code",
   "execution_count": 1,
   "metadata": {},
   "outputs": [
    {
     "data": {
      "text/plain": [
       "'c:\\\\Users\\\\oanuf\\\\Google Drive\\\\Programming\\\\GitHub\\\\Python_Trading_Snippets'"
      ]
     },
     "execution_count": 1,
     "metadata": {},
     "output_type": "execute_result"
    }
   ],
   "source": [
    "%pwd #print the current working directory"
   ]
  },
  {
   "cell_type": "code",
   "execution_count": 2,
   "metadata": {},
   "outputs": [],
   "source": [
    "import pandas as pd\n",
    "import datetime as dt\n",
    "\n",
    "import plotly.express as px\n",
    "import plotly.graph_objects as go\n",
    "from plotly.subplots import make_subplots\n",
    "\n",
    "\n",
    "from IPython.core.interactiveshell import InteractiveShell\n",
    "InteractiveShell.ast_node_interactivity = \"all\""
   ]
  },
  {
   "cell_type": "markdown",
   "metadata": {},
   "source": [
    "If the capitalization file was already created, start from reading it:"
   ]
  },
  {
   "cell_type": "code",
   "execution_count": 7,
   "metadata": {},
   "outputs": [
    {
     "data": {
      "text/html": [
       "<div>\n",
       "<style scoped>\n",
       "    .dataframe tbody tr th:only-of-type {\n",
       "        vertical-align: middle;\n",
       "    }\n",
       "\n",
       "    .dataframe tbody tr th {\n",
       "        vertical-align: top;\n",
       "    }\n",
       "\n",
       "    .dataframe thead th {\n",
       "        text-align: right;\n",
       "    }\n",
       "</style>\n",
       "<table border=\"1\" class=\"dataframe\">\n",
       "  <thead>\n",
       "    <tr style=\"text-align: right;\">\n",
       "      <th></th>\n",
       "      <th>Date</th>\n",
       "      <th>Open</th>\n",
       "      <th>High</th>\n",
       "      <th>Low</th>\n",
       "      <th>Close</th>\n",
       "      <th>Adj Close</th>\n",
       "      <th>Volume</th>\n",
       "      <th>Put Call</th>\n",
       "      <th>Fear Greed</th>\n",
       "      <th>VIX</th>\n",
       "    </tr>\n",
       "  </thead>\n",
       "  <tbody>\n",
       "    <tr>\n",
       "      <th>0</th>\n",
       "      <td>2011-01-03</td>\n",
       "      <td>126.709999</td>\n",
       "      <td>127.599998</td>\n",
       "      <td>125.699997</td>\n",
       "      <td>127.050003</td>\n",
       "      <td>104.563118</td>\n",
       "      <td>138725200</td>\n",
       "      <td>0.40</td>\n",
       "      <td>68</td>\n",
       "      <td>17.610001</td>\n",
       "    </tr>\n",
       "    <tr>\n",
       "      <th>1</th>\n",
       "      <td>2011-01-04</td>\n",
       "      <td>127.330002</td>\n",
       "      <td>127.370003</td>\n",
       "      <td>126.190002</td>\n",
       "      <td>126.980003</td>\n",
       "      <td>104.505478</td>\n",
       "      <td>137409700</td>\n",
       "      <td>0.43</td>\n",
       "      <td>68</td>\n",
       "      <td>17.379999</td>\n",
       "    </tr>\n",
       "    <tr>\n",
       "      <th>2</th>\n",
       "      <td>2011-01-05</td>\n",
       "      <td>126.580002</td>\n",
       "      <td>127.720001</td>\n",
       "      <td>126.459999</td>\n",
       "      <td>127.639999</td>\n",
       "      <td>105.048676</td>\n",
       "      <td>133975300</td>\n",
       "      <td>0.48</td>\n",
       "      <td>67</td>\n",
       "      <td>17.020000</td>\n",
       "    </tr>\n",
       "    <tr>\n",
       "      <th>3</th>\n",
       "      <td>2011-01-06</td>\n",
       "      <td>127.690002</td>\n",
       "      <td>127.830002</td>\n",
       "      <td>127.010002</td>\n",
       "      <td>127.389999</td>\n",
       "      <td>104.842949</td>\n",
       "      <td>122519000</td>\n",
       "      <td>0.46</td>\n",
       "      <td>64</td>\n",
       "      <td>17.400000</td>\n",
       "    </tr>\n",
       "    <tr>\n",
       "      <th>4</th>\n",
       "      <td>2011-01-07</td>\n",
       "      <td>127.559998</td>\n",
       "      <td>127.769997</td>\n",
       "      <td>126.150002</td>\n",
       "      <td>127.139999</td>\n",
       "      <td>104.637177</td>\n",
       "      <td>156034600</td>\n",
       "      <td>0.50</td>\n",
       "      <td>63</td>\n",
       "      <td>17.139999</td>\n",
       "    </tr>\n",
       "    <tr>\n",
       "      <th>...</th>\n",
       "      <td>...</td>\n",
       "      <td>...</td>\n",
       "      <td>...</td>\n",
       "      <td>...</td>\n",
       "      <td>...</td>\n",
       "      <td>...</td>\n",
       "      <td>...</td>\n",
       "      <td>...</td>\n",
       "      <td>...</td>\n",
       "      <td>...</td>\n",
       "    </tr>\n",
       "    <tr>\n",
       "      <th>2440</th>\n",
       "      <td>2020-09-14</td>\n",
       "      <td>337.489990</td>\n",
       "      <td>340.380005</td>\n",
       "      <td>334.220001</td>\n",
       "      <td>338.459991</td>\n",
       "      <td>337.110535</td>\n",
       "      <td>65605700</td>\n",
       "      <td>0.49</td>\n",
       "      <td>59</td>\n",
       "      <td>25.850000</td>\n",
       "    </tr>\n",
       "    <tr>\n",
       "      <th>2441</th>\n",
       "      <td>2020-09-15</td>\n",
       "      <td>341.119995</td>\n",
       "      <td>342.019989</td>\n",
       "      <td>338.470001</td>\n",
       "      <td>340.170013</td>\n",
       "      <td>338.813751</td>\n",
       "      <td>52920900</td>\n",
       "      <td>0.46</td>\n",
       "      <td>59</td>\n",
       "      <td>25.590000</td>\n",
       "    </tr>\n",
       "    <tr>\n",
       "      <th>2442</th>\n",
       "      <td>2020-09-16</td>\n",
       "      <td>341.510010</td>\n",
       "      <td>343.059998</td>\n",
       "      <td>338.519989</td>\n",
       "      <td>338.820007</td>\n",
       "      <td>337.469116</td>\n",
       "      <td>82096000</td>\n",
       "      <td>0.51</td>\n",
       "      <td>56</td>\n",
       "      <td>26.040001</td>\n",
       "    </tr>\n",
       "    <tr>\n",
       "      <th>2443</th>\n",
       "      <td>2020-09-17</td>\n",
       "      <td>333.559998</td>\n",
       "      <td>337.700012</td>\n",
       "      <td>332.989990</td>\n",
       "      <td>335.839996</td>\n",
       "      <td>334.501007</td>\n",
       "      <td>91523300</td>\n",
       "      <td>0.58</td>\n",
       "      <td>53</td>\n",
       "      <td>26.459999</td>\n",
       "    </tr>\n",
       "    <tr>\n",
       "      <th>2444</th>\n",
       "      <td>2020-09-18</td>\n",
       "      <td>335.369995</td>\n",
       "      <td>335.489990</td>\n",
       "      <td>327.970001</td>\n",
       "      <td>330.649994</td>\n",
       "      <td>330.649994</td>\n",
       "      <td>105790800</td>\n",
       "      <td>0.63</td>\n",
       "      <td>52</td>\n",
       "      <td>25.830000</td>\n",
       "    </tr>\n",
       "  </tbody>\n",
       "</table>\n",
       "<p>2445 rows × 10 columns</p>\n",
       "</div>"
      ],
      "text/plain": [
       "           Date        Open        High         Low       Close   Adj Close  \\\n",
       "0    2011-01-03  126.709999  127.599998  125.699997  127.050003  104.563118   \n",
       "1    2011-01-04  127.330002  127.370003  126.190002  126.980003  104.505478   \n",
       "2    2011-01-05  126.580002  127.720001  126.459999  127.639999  105.048676   \n",
       "3    2011-01-06  127.690002  127.830002  127.010002  127.389999  104.842949   \n",
       "4    2011-01-07  127.559998  127.769997  126.150002  127.139999  104.637177   \n",
       "...         ...         ...         ...         ...         ...         ...   \n",
       "2440 2020-09-14  337.489990  340.380005  334.220001  338.459991  337.110535   \n",
       "2441 2020-09-15  341.119995  342.019989  338.470001  340.170013  338.813751   \n",
       "2442 2020-09-16  341.510010  343.059998  338.519989  338.820007  337.469116   \n",
       "2443 2020-09-17  333.559998  337.700012  332.989990  335.839996  334.501007   \n",
       "2444 2020-09-18  335.369995  335.489990  327.970001  330.649994  330.649994   \n",
       "\n",
       "         Volume  Put Call  Fear Greed        VIX  \n",
       "0     138725200      0.40          68  17.610001  \n",
       "1     137409700      0.43          68  17.379999  \n",
       "2     133975300      0.48          67  17.020000  \n",
       "3     122519000      0.46          64  17.400000  \n",
       "4     156034600      0.50          63  17.139999  \n",
       "...         ...       ...         ...        ...  \n",
       "2440   65605700      0.49          59  25.850000  \n",
       "2441   52920900      0.46          59  25.590000  \n",
       "2442   82096000      0.51          56  26.040001  \n",
       "2443   91523300      0.58          53  26.459999  \n",
       "2444  105790800      0.63          52  25.830000  \n",
       "\n",
       "[2445 rows x 10 columns]"
      ]
     },
     "execution_count": 7,
     "metadata": {},
     "output_type": "execute_result"
    },
    {
     "data": {
      "text/plain": [
       "Date          datetime64[ns]\n",
       "Open                 float64\n",
       "High                 float64\n",
       "Low                  float64\n",
       "Close                float64\n",
       "Adj Close            float64\n",
       "Volume                 int64\n",
       "Put Call             float64\n",
       "Fear Greed             int64\n",
       "VIX                  float64\n",
       "dtype: object"
      ]
     },
     "execution_count": 7,
     "metadata": {},
     "output_type": "execute_result"
    }
   ],
   "source": [
    "data = pd.read_csv('D:\\\\Data\\\\Other_data\\\\spy-put-call-fear-greed-vix.csv',parse_dates=['Date'])\n",
    "data\n",
    "data.dtypes"
   ]
  },
  {
   "cell_type": "code",
   "execution_count": 10,
   "metadata": {},
   "outputs": [
    {
     "data": {
      "application/vnd.plotly.v1+json": {
       "config": {
        "plotlyServerURL": "https://plot.ly"
       },
       "data": [
        {
         "alignmentgroup": "True",
         "hovertemplate": "variable=Fear Greed<br>index=%{x}<br>value=%{y}<extra></extra>",
         "legendgroup": "Fear Greed",
         "marker": {
          "color": "#636efa",
          "pattern": {
           "shape": ""
          }
         },
         "name": "Fear Greed",
         "offsetgroup": "Fear Greed",
         "orientation": "v",
         "showlegend": true,
         "textposition": "auto",
         "type": "bar",
         "x": [
          55,
          62,
          61,
          70,
          58,
          66,
          59,
          52,
          63,
          47,
          53,
          56,
          67,
          48,
          64,
          42,
          75,
          68,
          45,
          43,
          72,
          49,
          71,
          50,
          41,
          60,
          54,
          78,
          25,
          31,
          44,
          57,
          65,
          39,
          51,
          35,
          34,
          32,
          36,
          74,
          40,
          37,
          73,
          28,
          77,
          13,
          69,
          30,
          38,
          79,
          18,
          26,
          27,
          10,
          46,
          16,
          83,
          29,
          14,
          33,
          7,
          15,
          80,
          22,
          8,
          23,
          9,
          5,
          21,
          11,
          12,
          17,
          81,
          87,
          82,
          20,
          86,
          89,
          24,
          6,
          88,
          19,
          85,
          91,
          93,
          76,
          92,
          2,
          84,
          3,
          90,
          4,
          94,
          1,
          95,
          0,
          97
         ],
         "xaxis": "x",
         "y": [
          58,
          53,
          50,
          49,
          47,
          46,
          46,
          43,
          42,
          42,
          41,
          41,
          40,
          39,
          39,
          39,
          38,
          38,
          38,
          38,
          37,
          35,
          35,
          34,
          32,
          32,
          32,
          32,
          32,
          32,
          31,
          31,
          30,
          30,
          30,
          30,
          29,
          29,
          29,
          29,
          29,
          29,
          28,
          26,
          26,
          26,
          26,
          25,
          25,
          24,
          24,
          24,
          23,
          22,
          22,
          22,
          21,
          21,
          21,
          21,
          21,
          20,
          20,
          20,
          20,
          20,
          19,
          18,
          18,
          18,
          16,
          15,
          15,
          15,
          15,
          15,
          14,
          14,
          14,
          13,
          13,
          13,
          13,
          12,
          11,
          10,
          9,
          7,
          7,
          7,
          6,
          4,
          3,
          3,
          2,
          1,
          1
         ],
         "yaxis": "y"
        }
       ],
       "layout": {
        "barmode": "relative",
        "legend": {
         "title": {
          "text": "variable"
         },
         "tracegroupgap": 0
        },
        "showlegend": false,
        "template": {
         "data": {
          "bar": [
           {
            "error_x": {
             "color": "#2a3f5f"
            },
            "error_y": {
             "color": "#2a3f5f"
            },
            "marker": {
             "line": {
              "color": "#E5ECF6",
              "width": 0.5
             },
             "pattern": {
              "fillmode": "overlay",
              "size": 10,
              "solidity": 0.2
             }
            },
            "type": "bar"
           }
          ],
          "barpolar": [
           {
            "marker": {
             "line": {
              "color": "#E5ECF6",
              "width": 0.5
             },
             "pattern": {
              "fillmode": "overlay",
              "size": 10,
              "solidity": 0.2
             }
            },
            "type": "barpolar"
           }
          ],
          "carpet": [
           {
            "aaxis": {
             "endlinecolor": "#2a3f5f",
             "gridcolor": "white",
             "linecolor": "white",
             "minorgridcolor": "white",
             "startlinecolor": "#2a3f5f"
            },
            "baxis": {
             "endlinecolor": "#2a3f5f",
             "gridcolor": "white",
             "linecolor": "white",
             "minorgridcolor": "white",
             "startlinecolor": "#2a3f5f"
            },
            "type": "carpet"
           }
          ],
          "choropleth": [
           {
            "colorbar": {
             "outlinewidth": 0,
             "ticks": ""
            },
            "type": "choropleth"
           }
          ],
          "contour": [
           {
            "colorbar": {
             "outlinewidth": 0,
             "ticks": ""
            },
            "colorscale": [
             [
              0,
              "#0d0887"
             ],
             [
              0.1111111111111111,
              "#46039f"
             ],
             [
              0.2222222222222222,
              "#7201a8"
             ],
             [
              0.3333333333333333,
              "#9c179e"
             ],
             [
              0.4444444444444444,
              "#bd3786"
             ],
             [
              0.5555555555555556,
              "#d8576b"
             ],
             [
              0.6666666666666666,
              "#ed7953"
             ],
             [
              0.7777777777777778,
              "#fb9f3a"
             ],
             [
              0.8888888888888888,
              "#fdca26"
             ],
             [
              1,
              "#f0f921"
             ]
            ],
            "type": "contour"
           }
          ],
          "contourcarpet": [
           {
            "colorbar": {
             "outlinewidth": 0,
             "ticks": ""
            },
            "type": "contourcarpet"
           }
          ],
          "heatmap": [
           {
            "colorbar": {
             "outlinewidth": 0,
             "ticks": ""
            },
            "colorscale": [
             [
              0,
              "#0d0887"
             ],
             [
              0.1111111111111111,
              "#46039f"
             ],
             [
              0.2222222222222222,
              "#7201a8"
             ],
             [
              0.3333333333333333,
              "#9c179e"
             ],
             [
              0.4444444444444444,
              "#bd3786"
             ],
             [
              0.5555555555555556,
              "#d8576b"
             ],
             [
              0.6666666666666666,
              "#ed7953"
             ],
             [
              0.7777777777777778,
              "#fb9f3a"
             ],
             [
              0.8888888888888888,
              "#fdca26"
             ],
             [
              1,
              "#f0f921"
             ]
            ],
            "type": "heatmap"
           }
          ],
          "heatmapgl": [
           {
            "colorbar": {
             "outlinewidth": 0,
             "ticks": ""
            },
            "colorscale": [
             [
              0,
              "#0d0887"
             ],
             [
              0.1111111111111111,
              "#46039f"
             ],
             [
              0.2222222222222222,
              "#7201a8"
             ],
             [
              0.3333333333333333,
              "#9c179e"
             ],
             [
              0.4444444444444444,
              "#bd3786"
             ],
             [
              0.5555555555555556,
              "#d8576b"
             ],
             [
              0.6666666666666666,
              "#ed7953"
             ],
             [
              0.7777777777777778,
              "#fb9f3a"
             ],
             [
              0.8888888888888888,
              "#fdca26"
             ],
             [
              1,
              "#f0f921"
             ]
            ],
            "type": "heatmapgl"
           }
          ],
          "histogram": [
           {
            "marker": {
             "pattern": {
              "fillmode": "overlay",
              "size": 10,
              "solidity": 0.2
             }
            },
            "type": "histogram"
           }
          ],
          "histogram2d": [
           {
            "colorbar": {
             "outlinewidth": 0,
             "ticks": ""
            },
            "colorscale": [
             [
              0,
              "#0d0887"
             ],
             [
              0.1111111111111111,
              "#46039f"
             ],
             [
              0.2222222222222222,
              "#7201a8"
             ],
             [
              0.3333333333333333,
              "#9c179e"
             ],
             [
              0.4444444444444444,
              "#bd3786"
             ],
             [
              0.5555555555555556,
              "#d8576b"
             ],
             [
              0.6666666666666666,
              "#ed7953"
             ],
             [
              0.7777777777777778,
              "#fb9f3a"
             ],
             [
              0.8888888888888888,
              "#fdca26"
             ],
             [
              1,
              "#f0f921"
             ]
            ],
            "type": "histogram2d"
           }
          ],
          "histogram2dcontour": [
           {
            "colorbar": {
             "outlinewidth": 0,
             "ticks": ""
            },
            "colorscale": [
             [
              0,
              "#0d0887"
             ],
             [
              0.1111111111111111,
              "#46039f"
             ],
             [
              0.2222222222222222,
              "#7201a8"
             ],
             [
              0.3333333333333333,
              "#9c179e"
             ],
             [
              0.4444444444444444,
              "#bd3786"
             ],
             [
              0.5555555555555556,
              "#d8576b"
             ],
             [
              0.6666666666666666,
              "#ed7953"
             ],
             [
              0.7777777777777778,
              "#fb9f3a"
             ],
             [
              0.8888888888888888,
              "#fdca26"
             ],
             [
              1,
              "#f0f921"
             ]
            ],
            "type": "histogram2dcontour"
           }
          ],
          "mesh3d": [
           {
            "colorbar": {
             "outlinewidth": 0,
             "ticks": ""
            },
            "type": "mesh3d"
           }
          ],
          "parcoords": [
           {
            "line": {
             "colorbar": {
              "outlinewidth": 0,
              "ticks": ""
             }
            },
            "type": "parcoords"
           }
          ],
          "pie": [
           {
            "automargin": true,
            "type": "pie"
           }
          ],
          "scatter": [
           {
            "marker": {
             "colorbar": {
              "outlinewidth": 0,
              "ticks": ""
             }
            },
            "type": "scatter"
           }
          ],
          "scatter3d": [
           {
            "line": {
             "colorbar": {
              "outlinewidth": 0,
              "ticks": ""
             }
            },
            "marker": {
             "colorbar": {
              "outlinewidth": 0,
              "ticks": ""
             }
            },
            "type": "scatter3d"
           }
          ],
          "scattercarpet": [
           {
            "marker": {
             "colorbar": {
              "outlinewidth": 0,
              "ticks": ""
             }
            },
            "type": "scattercarpet"
           }
          ],
          "scattergeo": [
           {
            "marker": {
             "colorbar": {
              "outlinewidth": 0,
              "ticks": ""
             }
            },
            "type": "scattergeo"
           }
          ],
          "scattergl": [
           {
            "marker": {
             "colorbar": {
              "outlinewidth": 0,
              "ticks": ""
             }
            },
            "type": "scattergl"
           }
          ],
          "scattermapbox": [
           {
            "marker": {
             "colorbar": {
              "outlinewidth": 0,
              "ticks": ""
             }
            },
            "type": "scattermapbox"
           }
          ],
          "scatterpolar": [
           {
            "marker": {
             "colorbar": {
              "outlinewidth": 0,
              "ticks": ""
             }
            },
            "type": "scatterpolar"
           }
          ],
          "scatterpolargl": [
           {
            "marker": {
             "colorbar": {
              "outlinewidth": 0,
              "ticks": ""
             }
            },
            "type": "scatterpolargl"
           }
          ],
          "scatterternary": [
           {
            "marker": {
             "colorbar": {
              "outlinewidth": 0,
              "ticks": ""
             }
            },
            "type": "scatterternary"
           }
          ],
          "surface": [
           {
            "colorbar": {
             "outlinewidth": 0,
             "ticks": ""
            },
            "colorscale": [
             [
              0,
              "#0d0887"
             ],
             [
              0.1111111111111111,
              "#46039f"
             ],
             [
              0.2222222222222222,
              "#7201a8"
             ],
             [
              0.3333333333333333,
              "#9c179e"
             ],
             [
              0.4444444444444444,
              "#bd3786"
             ],
             [
              0.5555555555555556,
              "#d8576b"
             ],
             [
              0.6666666666666666,
              "#ed7953"
             ],
             [
              0.7777777777777778,
              "#fb9f3a"
             ],
             [
              0.8888888888888888,
              "#fdca26"
             ],
             [
              1,
              "#f0f921"
             ]
            ],
            "type": "surface"
           }
          ],
          "table": [
           {
            "cells": {
             "fill": {
              "color": "#EBF0F8"
             },
             "line": {
              "color": "white"
             }
            },
            "header": {
             "fill": {
              "color": "#C8D4E3"
             },
             "line": {
              "color": "white"
             }
            },
            "type": "table"
           }
          ]
         },
         "layout": {
          "annotationdefaults": {
           "arrowcolor": "#2a3f5f",
           "arrowhead": 0,
           "arrowwidth": 1
          },
          "autotypenumbers": "strict",
          "coloraxis": {
           "colorbar": {
            "outlinewidth": 0,
            "ticks": ""
           }
          },
          "colorscale": {
           "diverging": [
            [
             0,
             "#8e0152"
            ],
            [
             0.1,
             "#c51b7d"
            ],
            [
             0.2,
             "#de77ae"
            ],
            [
             0.3,
             "#f1b6da"
            ],
            [
             0.4,
             "#fde0ef"
            ],
            [
             0.5,
             "#f7f7f7"
            ],
            [
             0.6,
             "#e6f5d0"
            ],
            [
             0.7,
             "#b8e186"
            ],
            [
             0.8,
             "#7fbc41"
            ],
            [
             0.9,
             "#4d9221"
            ],
            [
             1,
             "#276419"
            ]
           ],
           "sequential": [
            [
             0,
             "#0d0887"
            ],
            [
             0.1111111111111111,
             "#46039f"
            ],
            [
             0.2222222222222222,
             "#7201a8"
            ],
            [
             0.3333333333333333,
             "#9c179e"
            ],
            [
             0.4444444444444444,
             "#bd3786"
            ],
            [
             0.5555555555555556,
             "#d8576b"
            ],
            [
             0.6666666666666666,
             "#ed7953"
            ],
            [
             0.7777777777777778,
             "#fb9f3a"
            ],
            [
             0.8888888888888888,
             "#fdca26"
            ],
            [
             1,
             "#f0f921"
            ]
           ],
           "sequentialminus": [
            [
             0,
             "#0d0887"
            ],
            [
             0.1111111111111111,
             "#46039f"
            ],
            [
             0.2222222222222222,
             "#7201a8"
            ],
            [
             0.3333333333333333,
             "#9c179e"
            ],
            [
             0.4444444444444444,
             "#bd3786"
            ],
            [
             0.5555555555555556,
             "#d8576b"
            ],
            [
             0.6666666666666666,
             "#ed7953"
            ],
            [
             0.7777777777777778,
             "#fb9f3a"
            ],
            [
             0.8888888888888888,
             "#fdca26"
            ],
            [
             1,
             "#f0f921"
            ]
           ]
          },
          "colorway": [
           "#636efa",
           "#EF553B",
           "#00cc96",
           "#ab63fa",
           "#FFA15A",
           "#19d3f3",
           "#FF6692",
           "#B6E880",
           "#FF97FF",
           "#FECB52"
          ],
          "font": {
           "color": "#2a3f5f"
          },
          "geo": {
           "bgcolor": "white",
           "lakecolor": "white",
           "landcolor": "#E5ECF6",
           "showlakes": true,
           "showland": true,
           "subunitcolor": "white"
          },
          "hoverlabel": {
           "align": "left"
          },
          "hovermode": "closest",
          "mapbox": {
           "style": "light"
          },
          "paper_bgcolor": "white",
          "plot_bgcolor": "#E5ECF6",
          "polar": {
           "angularaxis": {
            "gridcolor": "white",
            "linecolor": "white",
            "ticks": ""
           },
           "bgcolor": "#E5ECF6",
           "radialaxis": {
            "gridcolor": "white",
            "linecolor": "white",
            "ticks": ""
           }
          },
          "scene": {
           "xaxis": {
            "backgroundcolor": "#E5ECF6",
            "gridcolor": "white",
            "gridwidth": 2,
            "linecolor": "white",
            "showbackground": true,
            "ticks": "",
            "zerolinecolor": "white"
           },
           "yaxis": {
            "backgroundcolor": "#E5ECF6",
            "gridcolor": "white",
            "gridwidth": 2,
            "linecolor": "white",
            "showbackground": true,
            "ticks": "",
            "zerolinecolor": "white"
           },
           "zaxis": {
            "backgroundcolor": "#E5ECF6",
            "gridcolor": "white",
            "gridwidth": 2,
            "linecolor": "white",
            "showbackground": true,
            "ticks": "",
            "zerolinecolor": "white"
           }
          },
          "shapedefaults": {
           "line": {
            "color": "#2a3f5f"
           }
          },
          "ternary": {
           "aaxis": {
            "gridcolor": "white",
            "linecolor": "white",
            "ticks": ""
           },
           "baxis": {
            "gridcolor": "white",
            "linecolor": "white",
            "ticks": ""
           },
           "bgcolor": "#E5ECF6",
           "caxis": {
            "gridcolor": "white",
            "linecolor": "white",
            "ticks": ""
           }
          },
          "title": {
           "x": 0.05
          },
          "xaxis": {
           "automargin": true,
           "gridcolor": "white",
           "linecolor": "white",
           "ticks": "",
           "title": {
            "standoff": 15
           },
           "zerolinecolor": "white",
           "zerolinewidth": 2
          },
          "yaxis": {
           "automargin": true,
           "gridcolor": "white",
           "linecolor": "white",
           "ticks": "",
           "title": {
            "standoff": 15
           },
           "zerolinecolor": "white",
           "zerolinewidth": 2
          }
         }
        },
        "title": {
         "text": "Fear Greed",
         "x": 0.5
        },
        "xaxis": {
         "anchor": "y",
         "domain": [
          0,
          1
         ],
         "title": {
          "text": "index"
         }
        },
        "yaxis": {
         "anchor": "x",
         "domain": [
          0,
          1
         ],
         "title": {
          "text": "value"
         }
        }
       }
      }
     },
     "metadata": {},
     "output_type": "display_data"
    },
    {
     "data": {
      "application/vnd.plotly.v1+json": {
       "config": {
        "plotlyServerURL": "https://plot.ly"
       },
       "data": [
        {
         "alignmentgroup": "True",
         "bingroup": "x",
         "hovertemplate": "Volume=%{x}<br>count=%{y}<extra></extra>",
         "legendgroup": "",
         "marker": {
          "color": "#636efa",
          "pattern": {
           "shape": ""
          }
         },
         "name": "",
         "nbinsx": 20,
         "offsetgroup": "",
         "orientation": "v",
         "showlegend": false,
         "type": "histogram",
         "x": [
          138725200,
          137409700,
          133975300,
          122519000,
          156034600,
          122401700,
          110287000,
          107929200,
          129048400,
          117677900,
          114401300,
          151958400,
          175745700,
          151462900,
          113715500,
          167552200,
          141281500,
          123302700,
          295637300,
          149249200,
          167194300,
          118323600,
          145886700,
          134634800,
          112439100,
          99072800,
          146436700,
          162708500,
          137710300,
          101690700,
          119575400,
          130183500,
          109810500,
          130002400,
          233116400,
          227584000,
          260431400,
          141686900,
          141585500,
          258565500,
          200277400,
          176480100,
          277202300,
          216790400,
          174615000,
          153806000,
          301291800,
          225621800,
          234974100,
          359585400,
          468670300,
          254303700,
          230435400,
          153992600,
          129538600,
          148603100,
          159129800,
          155642800,
          109762400,
          129798800,
          135835000,
          132537100,
          153850100,
          100768900,
          120791500,
          120411600,
          170731500,
          147945400,
          121385400,
          161187400,
          162059000,
          161220400,
          170006700,
          210759300,
          124258800,
          156133800,
          135935400,
          65757100,
          146600000,
          143031000,
          124791100,
          115094100,
          126278700,
          138375000,
          182678500,
          226900000,
          222787200,
          114104500,
          114806900,
          193564200,
          171550700,
          157444900,
          141675400,
          192686200,
          135217900,
          119489500,
          182594900,
          168700000,
          147199600,
          151050100,
          164850000,
          120921900,
          164731200,
          233094300,
          200466800,
          234690200,
          179951200,
          161660500,
          198696400,
          160964400,
          238629400,
          207599800,
          160570400,
          300958000,
          308032800,
          233284900,
          159479000,
          193157300,
          176703000,
          334286500,
          226129300,
          168904700,
          165556300,
          244295500,
          223322700,
          202385700,
          165936000,
          143331600,
          170464200,
          194100500,
          195918600,
          214675700,
          204062600,
          226111800,
          220012800,
          196872100,
          166554900,
          137145400,
          245246300,
          126019400,
          136653800,
          131278200,
          249020100,
          207939900,
          307038400,
          325790900,
          346653800,
          370830800,
          520721800,
          655619200,
          702263900,
          717828700,
          662607400,
          487979700,
          313731600,
          258810600,
          294095200,
          238201100,
          512956300,
          428281300,
          275090600,
          331136600,
          246869700,
          312365400,
          314495900,
          190977200,
          241315700,
          301828400,
          254585900,
          255517200,
          285130500,
          209803200,
          250568200,
          380195100,
          305793500,
          272514700,
          319389500,
          326777200,
          284528300,
          241517000,
          218932200,
          316251300,
          513911300,
          307242500,
          260673700,
          311753900,
          286696800,
          298108900,
          288392300,
          365136800,
          459177500,
          284108000,
          257800800,
          312657900,
          230666300,
          209088000,
          281544900,
          212538800,
          211397600,
          202311600,
          318857900,
          226601300,
          262075600,
          278999400,
          203215600,
          268596800,
          289053800,
          393220200,
          225906500,
          228146700,
          416565800,
          244717600,
          291174800,
          249401600,
          196617200,
          224426300,
          337982000,
          231866500,
          189924400,
          159258300,
          184709400,
          235782500,
          331219600,
          215580400,
          229611600,
          216494900,
          224329100,
          99557000,
          210686000,
          199241500,
          324439500,
          176954800,
          221109700,
          225263900,
          178842100,
          237802500,
          240862800,
          209111400,
          215826100,
          245159800,
          238618800,
          199109200,
          220481400,
          183903000,
          225418100,
          194230900,
          119465400,
          92187200,
          86075700,
          119107100,
          123507200,
          95599000,
          193697900,
          127186500,
          173895000,
          148050000,
          99530200,
          115282000,
          111540700,
          118983700,
          179836200,
          132209200,
          163395200,
          126328900,
          138230200,
          129295800,
          103083300,
          198613200,
          184880500,
          135259100,
          147311800,
          157212000,
          166234500,
          113090400,
          160598500,
          107694500,
          135528100,
          139361400,
          148602900,
          167907500,
          115841900,
          165329500,
          195195100,
          186567800,
          129869400,
          134042300,
          124455300,
          137704300,
          105539100,
          145728900,
          129355900,
          185934700,
          145023500,
          120638300,
          140765000,
          202129900,
          143692200,
          116968900,
          122836800,
          104003500,
          184090500,
          145163600,
          165118500,
          152893500,
          125291100,
          121729700,
          122388400,
          135216700,
          120521000,
          120164000,
          119868500,
          148562100,
          164963700,
          135486800,
          151741100,
          155806700,
          146896000,
          137439400,
          127555900,
          235360300,
          154133000,
          154321500,
          169246700,
          147825300,
          147877600,
          123884200,
          198666700,
          143199600,
          171844900,
          137484200,
          150252200,
          136291600,
          130725000,
          115092200,
          138832200,
          121081000,
          143759700,
          193927300,
          127765900,
          213377700,
          220752500,
          150600000,
          153032400,
          163910000,
          207629300,
          207265500,
          247992900,
          319615900,
          177861100,
          197531200,
          204958400,
          167357600,
          135465600,
          152883500,
          162370400,
          196186000,
          253240900,
          202545800,
          164149400,
          184202800,
          184772700,
          143915400,
          169756100,
          181931800,
          172223900,
          230615500,
          169444500,
          131360900,
          137382600,
          206451800,
          205272200,
          130029200,
          146375700,
          141634000,
          108088000,
          169242100,
          212250900,
          129524500,
          80450000,
          126177500,
          151192100,
          103780500,
          167884800,
          141733400,
          143583200,
          129642600,
          97525200,
          138860300,
          113349700,
          129847300,
          142904500,
          145210900,
          173301200,
          129122300,
          156526500,
          236768900,
          106782000,
          120575900,
          138293800,
          199556600,
          157825000,
          86326200,
          109545100,
          89754700,
          90291700,
          99792700,
          79426900,
          102379400,
          71085900,
          112014200,
          90813700,
          78255700,
          105581100,
          133243500,
          111466400,
          99481200,
          68785900,
          75689600,
          65421300,
          96589900,
          151970400,
          120226200,
          100660300,
          158272500,
          107272100,
          86458500,
          88760000,
          87640900,
          225470200,
          169777000,
          119427800,
          98326600,
          128318300,
          154009800,
          108737500,
          95682000,
          133165200,
          146502200,
          111830300,
          150696100,
          135911200,
          113422200,
          121283100,
          124311600,
          124842100,
          78415400,
          148872900,
          124247500,
          123601500,
          124181900,
          107689100,
          108815500,
          128834100,
          148108500,
          185645200,
          125578600,
          192056300,
          120179400,
          134457400,
          146023500,
          103438500,
          100995600,
          137702200,
          98378500,
          107068100,
          264304500,
          181517300,
          201055300,
          97677500,
          123018300,
          191505000,
          178128400,
          239483900,
          151495800,
          119807400,
          81710800,
          65409200,
          100124400,
          128646200,
          177086500,
          151085900,
          136568300,
          124656300,
          127512200,
          147300500,
          103220600,
          108726400,
          98840700,
          152570400,
          145880100,
          135715000,
          137701700,
          143238200,
          177762800,
          150895400,
          168487000,
          245883800,
          53874600,
          106947700,
          167920600,
          148806700,
          243935200,
          192059000,
          144761800,
          116817700,
          110002500,
          121265100,
          90745600,
          130735400,
          113917300,
          89567200,
          93172600,
          104849500,
          133833500,
          169906000,
          111797300,
          104596100,
          146426400,
          147211600,
          113357700,
          105694400,
          137447700,
          108975800,
          131173000,
          159073600,
          113912400,
          138762800,
          162490000,
          103133700,
          73775000,
          65392700,
          82322600,
          80834300,
          215226500,
          95105400,
          160574800,
          183257000,
          106356600,
          245824800,
          186596200,
          150781900,
          126866000,
          170634800,
          99010200,
          121431900,
          94469900,
          86101400,
          123477800,
          83746800,
          105755800,
          92550900,
          126329900,
          138601100,
          126704300,
          167567300,
          113759300,
          128605000,
          111163600,
          151322300,
          86856600,
          99950600,
          102932800,
          99194100,
          101504300,
          154167400,
          131885000,
          159666000,
          86571200,
          101922200,
          135711100,
          110142500,
          116359900,
          217259000,
          147507800,
          226834800,
          167583200,
          149687600,
          106553500,
          166141300,
          96781200,
          131060600,
          95918800,
          88572800,
          116010700,
          138874200,
          96407600,
          144202300,
          66882100,
          90359200,
          97419200,
          106738600,
          103203000,
          81843200,
          119000900,
          120718500,
          109913600,
          129801000,
          85071200,
          95804200,
          244031800,
          211064400,
          151573900,
          143679800,
          160363400,
          107793800,
          176850100,
          168390700,
          157631500,
          211737800,
          200225500,
          188337800,
          105667100,
          159505400,
          177361500,
          163587800,
          141197500,
          136295600,
          114695600,
          206149500,
          321255900,
          271956800,
          222329000,
          162262200,
          134848000,
          129483700,
          160402900,
          131954800,
          154863700,
          75216400,
          122416900,
          108092500,
          119298000,
          121410100,
          135592200,
          104212700,
          69450600,
          88702100,
          92873900,
          103620100,
          103831700,
          79428600,
          80829700,
          112914000,
          111088600,
          107814600,
          79695000,
          85209600,
          142388700,
          110438400,
          91116700,
          54072700,
          87495000,
          84854700,
          102181300,
          91757700,
          68593300,
          80806000,
          79829200,
          152931800,
          130868200,
          96437600,
          89294400,
          159530500,
          101471400,
          90888900,
          89702100,
          158619400,
          108113000,
          119200500,
          134928900,
          142375100,
          97389400,
          63090500,
          159756500,
          87559300,
          105847200,
          94545900,
          83209000,
          72727800,
          106299200,
          82523300,
          203460600,
          146616900,
          132867100,
          104616500,
          106333100,
          117306500,
          77146900,
          99141800,
          143937000,
          127160000,
          113350000,
          176698000,
          96878000,
          96295000,
          178015000,
          168973000,
          195955000,
          105040000,
          112106000,
          155485000,
          161676000,
          129389000,
          138316000,
          104104000,
          126663000,
          105484000,
          70350000,
          93625000,
          84979000,
          87401000,
          140002000,
          133795000,
          142805000,
          85677000,
          85825000,
          87348000,
          157000000,
          136713000,
          62614000,
          83990000,
          103844000,
          103435000,
          102818000,
          104796000,
          93891000,
          124909000,
          92841000,
          81296000,
          79486000,
          86994000,
          58800000,
          55870900,
          99726000,
          116563000,
          123033000,
          106934000,
          127728000,
          70124000,
          80976000,
          130591000,
          115565000,
          107808000,
          96195000,
          89886000,
          234906000,
          136531200,
          197087000,
          85598000,
          45368800,
          63365000,
          61814000,
          56857000,
          86119900,
          119636900,
          81390600,
          108028200,
          86144200,
          96582300,
          90683400,
          102026400,
          149892000,
          105016100,
          98525800,
          72290600,
          107848700,
          88621200,
          61270900,
          132496900,
          208677100,
          180843100,
          110463200,
          216597300,
          118938100,
          194677900,
          254837100,
          165012400,
          164230500,
          132877600,
          170787200,
          92218800,
          117814100,
          94717700,
          100542200,
          96498400,
          80460900,
          126524300,
          104998100,
          118116400,
          114063900,
          117085000,
          98677200,
          93880800,
          150842000,
          167748500,
          167545900,
          88376900,
          82516500,
          114513500,
          74939200,
          99009100,
          104824400,
          155014300,
          153919600,
          98359500,
          101804600,
          176267300,
          117241000,
          163128000,
          121411000,
          103852000,
          119843000,
          142383000,
          101642000,
          99745000,
          89193000,
          78774000,
          77435000,
          169381000,
          140803000,
          112660000,
          100254000,
          172959000,
          167251000,
          132382000,
          157093000,
          105197000,
          105255000,
          68329000,
          85790000,
          73869000,
          88170000,
          100380000,
          135121000,
          84098000,
          101508000,
          93019000,
          98122000,
          75883000,
          85454000,
          106500000,
          93618000,
          83679000,
          86940000,
          66454000,
          72367000,
          154956000,
          97458000,
          63839000,
          111644000,
          89093000,
          61549000,
          61092800,
          72010000,
          66723000,
          64377000,
          76316000,
          64656000,
          65047000,
          55529000,
          92103000,
          78696000,
          65119000,
          57129000,
          68772000,
          106350000,
          82017000,
          87424000,
          84834000,
          105267000,
          85929000,
          100587000,
          70611000,
          96237000,
          82782000,
          84312000,
          71445100,
          70201200,
          90470000,
          52475000,
          52938800,
          61696000,
          108143000,
          72992000,
          99040000,
          64243000,
          58658000,
          111307000,
          79986400,
          145398000,
          124330000,
          67592000,
          67678000,
          65612000,
          56888000,
          76837000,
          69259000,
          80466000,
          104222000,
          183479000,
          189261000,
          91340000,
          152690000,
          94818000,
          135733000,
          117014000,
          74544000,
          73632000,
          69047000,
          57371000,
          139951000,
          75424000,
          59135000,
          72763000,
          67791000,
          76107000,
          63855000,
          47298000,
          47874000,
          58330000,
          65907000,
          72426000,
          57462000,
          85236000,
          102177000,
          64146000,
          88591000,
          67251000,
          66774400,
          117409300,
          76401000,
          116201000,
          151266000,
          94990000,
          121649000,
          125553000,
          111393000,
          107276000,
          150300000,
          103547000,
          95112000,
          131302000,
          177798000,
          157285000,
          121569000,
          104778000,
          147913000,
          186461000,
          210705000,
          221909000,
          230939000,
          215847000,
          380715000,
          270391000,
          214625000,
          130011000,
          154949000,
          151822000,
          154944000,
          117927000,
          82954000,
          106736000,
          142557000,
          113330000,
          146903000,
          93600000,
          93343000,
          91709000,
          107089000,
          89540000,
          66319000,
          54499400,
          90120300,
          85357900,
          80417500,
          80441000,
          76068100,
          82373000,
          72840300,
          142327300,
          65880800,
          79108300,
          62167800,
          57890100,
          103968400,
          74507200,
          68952000,
          91316600,
          91025500,
          108588200,
          125180100,
          159856400,
          159012800,
          202330200,
          189965800,
          259543800,
          253910100,
          257633900,
          245084600,
          148318900,
          122167900,
          42963400,
          57326700,
          79643900,
          73540800,
          130333800,
          121465900,
          169632600,
          209151400,
          125346700,
          147217800,
          158567300,
          144396100,
          214553300,
          192991100,
          176613900,
          211879600,
          130991100,
          122942700,
          174356000,
          117516800,
          92009700,
          134044600,
          168514300,
          173585400,
          197729700,
          163107000,
          124212900,
          134306700,
          97953200,
          125672000,
          87219000,
          96164200,
          91087800,
          97545900,
          93670400,
          76968200,
          80652900,
          91462500,
          140896400,
          74411100,
          72472300,
          73061700,
          72697900,
          108076000,
          87491400,
          110325800,
          114497200,
          76873000,
          188128000,
          89818900,
          157121300,
          110145700,
          93993500,
          162410900,
          136099200,
          94510400,
          228808500,
          117917300,
          177715100,
          71784500,
          77805300,
          159521700,
          153067200,
          118939000,
          96180400,
          126768700,
          137303600,
          86900900,
          114368200,
          81236300,
          89351900,
          85548900,
          72722900,
          74436600,
          75099900,
          99529300,
          68934900,
          191113200,
          92189500,
          72559800,
          78264600,
          102585900,
          61327400,
          79358100,
          86863500,
          125684900,
          161304900,
          103399700,
          70927200,
          113326200,
          135060200,
          88244900,
          155877300,
          75708100,
          119727600,
          94667900,
          95934000,
          76510100,
          74549700,
          72114600,
          76857500,
          64764600,
          57433500,
          124308600,
          93214000,
          74974600,
          124919600,
          93338800,
          91531000,
          87820900,
          151882800,
          121704700,
          89063300,
          105034700,
          134551300,
          73876400,
          135382400,
          124384200,
          85308200,
          126708600,
          165867900,
          130478700,
          70696000,
          68476800,
          92307300,
          97107400,
          104174800,
          202621300,
          182925100,
          135979900,
          104373700,
          117975400,
          173820200,
          164020100,
          144113100,
          129456900,
          106069400,
          81709600,
          97914100,
          106683300,
          89030000,
          70446800,
          77965000,
          88667900,
          90509100,
          117755000,
          132361100,
          123544800,
          105791300,
          91304400,
          103266900,
          113965700,
          81820800,
          85786800,
          116030800,
          117858000,
          80270700,
          126081400,
          172123700,
          89383300,
          72786500,
          79072600,
          71692700,
          172946000,
          194327900,
          346588500,
          507244300,
          369833100,
          339257000,
          274143900,
          160414400,
          163298800,
          256000400,
          160269300,
          152087800,
          207081000,
          116025700,
          149347700,
          158611100,
          119691200,
          79452000,
          113806200,
          99581600,
          276046600,
          223657500,
          105726200,
          153890900,
          92790600,
          159378800,
          155054800,
          178515900,
          159045600,
          163452000,
          131079000,
          211003300,
          126320800,
          110274500,
          124307300,
          153055200,
          107069200,
          56395600,
          88038700,
          99106200,
          134142200,
          114580100,
          76523900,
          78448500,
          102038000,
          174911700,
          144442300,
          69033000,
          77905800,
          135906700,
          90525500,
          131076900,
          86270800,
          95246100,
          96224500,
          78408700,
          110471500,
          131008700,
          75874600,
          67846000,
          121315200,
          153577100,
          117645200,
          121123700,
          121342500,
          88220500,
          94011500,
          64931200,
          98874400,
          51980100,
          37317800,
          112822700,
          97858400,
          108441300,
          166224200,
          192913900,
          102027100,
          103372400,
          162401500,
          116128900,
          211173300,
          182385200,
          154069600,
          197017000,
          173092500,
          251393500,
          99094300,
          111026200,
          110987200,
          48539600,
          65899900,
          92640700,
          63317700,
          114877900,
          222353500,
          110845800,
          152112600,
          213436100,
          209817200,
          187941300,
          172330500,
          221168900,
          240795600,
          324846400,
          195244400,
          286547800,
          195772900,
          168319600,
          130371700,
          141036800,
          185681700,
          143798800,
          210529300,
          136061600,
          182564900,
          205054900,
          139531800,
          180788300,
          191526700,
          184513100,
          148214100,
          219058900,
          127632400,
          120250700,
          136009500,
          102343000,
          114793000,
          103640300,
          111455300,
          150812200,
          110728300,
          129833700,
          125918100,
          141799700,
          102415000,
          95172200,
          129293600,
          100219000,
          123974900,
          94801200,
          156838700,
          137964500,
          73612000,
          93169100,
          129303200,
          134278500,
          138372400,
          72926700,
          97471900,
          81052500,
          84360900,
          62408200,
          92922900,
          86365300,
          94584100,
          114423500,
          63497000,
          99662200,
          91839800,
          113859000,
          95040600,
          83757500,
          115350600,
          96336400,
          65212900,
          75761600,
          82531000,
          88316100,
          81100300,
          85695000,
          99251700,
          66166500,
          75864200,
          77329400,
          97216200,
          142424100,
          62188000,
          106422100,
          92243800,
          67619200,
          89315000,
          74374900,
          77472200,
          81727000,
          89586300,
          96474600,
          77486800,
          114924900,
          120062100,
          115430500,
          104990400,
          58682600,
          93537800,
          76621400,
          55280700,
          64211200,
          109879400,
          69936200,
          63044700,
          101757100,
          64887000,
          60974800,
          66170900,
          73786900,
          113829200,
          117751200,
          125059300,
          109124500,
          149533100,
          117055700,
          82789600,
          72461700,
          95560500,
          102731400,
          333444400,
          230775800,
          159382400,
          137328600,
          165021900,
          106055300,
          109803700,
          96021500,
          85593800,
          133971000,
          73633900,
          101275600,
          87324100,
          91230900,
          107155400,
          58725900,
          54345700,
          58159500,
          67777300,
          62787500,
          55873100,
          70080500,
          84083900,
          65035700,
          79519400,
          73311400,
          92295500,
          53993600,
          46585500,
          71892200,
          39906500,
          51251700,
          57941100,
          72504300,
          61313500,
          49813500,
          53213600,
          75134300,
          52989300,
          75443000,
          61368800,
          53399200,
          71728900,
          69224800,
          122506300,
          70502200,
          58114500,
          85269500,
          97844200,
          79293900,
          56702100,
          76554900,
          74102900,
          221589100,
          168110900,
          182828800,
          134185500,
          134427900,
          155236400,
          80250500,
          69665300,
          110284400,
          76678700,
          73630900,
          89827300,
          78494800,
          87411000,
          128070600,
          117202900,
          83512100,
          119948100,
          72816000,
          62927400,
          89788300,
          51855000,
          130367400,
          73866100,
          101357000,
          93346200,
          58275700,
          76869700,
          66519200,
          73639800,
          89089100,
          60146600,
          66542300,
          75705500,
          77220200,
          140623200,
          61272500,
          122781800,
          103330800,
          88939300,
          109122100,
          109794900,
          106772100,
          258429000,
          172113300,
          100552700,
          94580000,
          91652600,
          65617700,
          69797200,
          86265800,
          72402600,
          67429000,
          56620200,
          37872300,
          76572500,
          69886700,
          113291800,
          79040500,
          74840300,
          67837800,
          59877400,
          110738100,
          99714400,
          88005800,
          102016100,
          110477500,
          142501800,
          124972600,
          156420200,
          90341100,
          89838800,
          67909000,
          56219100,
          36697800,
          42672500,
          64095000,
          48696100,
          108998300,
          91366500,
          78744400,
          78379000,
          71559900,
          46939700,
          63771900,
          74650000,
          72113200,
          62717900,
          61240800,
          54793300,
          66608800,
          129168600,
          75061600,
          95555300,
          84437700,
          59970700,
          59711100,
          79737300,
          75880800,
          79117700,
          69657600,
          80563200,
          57790100,
          57931200,
          51566200,
          65955200,
          66015900,
          55182100,
          71109000,
          86785800,
          84722400,
          77204100,
          88946100,
          62115200,
          74615900,
          82381600,
          56515400,
          96961900,
          149158200,
          70246000,
          81974300,
          55391500,
          65103700,
          78168800,
          90683900,
          81991700,
          57256800,
          59880800,
          96081800,
          78344000,
          89002100,
          52537000,
          131809300,
          97569200,
          100410300,
          112504900,
          87454500,
          93483900,
          61950400,
          56737900,
          73733100,
          85546500,
          56466200,
          108800600,
          69135800,
          74412300,
          67615300,
          88045300,
          81864400,
          92880400,
          68405400,
          83225800,
          68699900,
          92572200,
          110389800,
          119209900,
          76698300,
          84702500,
          57410300,
          63532800,
          66882500,
          57375700,
          73137700,
          61462700,
          62001300,
          48385700,
          51363200,
          54293800,
          62358300,
          53912700,
          61918900,
          51241800,
          172174100,
          107047700,
          115011400,
          61010600,
          48341700,
          46927700,
          64071700,
          46629900,
          35201900,
          91796000,
          68962000,
          88666100,
          44698800,
          50375400,
          54144300,
          65950700,
          132256400,
          86108100,
          60067000,
          78602300,
          66464900,
          84553100,
          65123800,
          56906400,
          55977600,
          44148100,
          66986800,
          56700500,
          82247700,
          70042600,
          106949700,
          86820700,
          39153800,
          54427600,
          65400800,
          57972300,
          36663300,
          50354600,
          59610400,
          39471600,
          60262700,
          33531900,
          42742500,
          51034300,
          47135200,
          82340800,
          46622300,
          54915600,
          47575400,
          70766600,
          50088400,
          65838700,
          55050400,
          47211200,
          40856000,
          60191800,
          31995000,
          61719400,
          62632600,
          120479500,
          74869900,
          73291900,
          55242700,
          56715500,
          128490400,
          136748000,
          65469700,
          63140100,
          50203800,
          50741700,
          64445900,
          40565600,
          51135700,
          62030800,
          103803900,
          62007000,
          91398800,
          57916900,
          58034700,
          63832800,
          71364800,
          56896000,
          59228000,
          95446300,
          95432400,
          46235200,
          47108100,
          59574100,
          48211400,
          51214000,
          57064400,
          54082000,
          81001400,
          44778800,
          85578000,
          59023000,
          66810200,
          55953600,
          63522800,
          80646000,
          35803100,
          43057400,
          47674300,
          47065100,
          54800400,
          38221700,
          31561000,
          40888300,
          61903800,
          89176400,
          63915300,
          66935900,
          103715300,
          69798000,
          85562500,
          54285700,
          60304800,
          54202700,
          56449500,
          59589700,
          49652600,
          57502200,
          50469600,
          95085500,
          59984700,
          50228600,
          61315200,
          80811500,
          67777000,
          75756800,
          48075500,
          69176800,
          45033400,
          27856500,
          52274900,
          98971700,
          77512100,
          127894400,
          164390900,
          94040600,
          77994500,
          75898600,
          77218600,
          76563900,
          83077500,
          85195800,
          102905400,
          100666700,
          144610300,
          83653600,
          82382900,
          76751500,
          67032300,
          78720900,
          45244400,
          57751000,
          45116100,
          96007400,
          86655700,
          90070400,
          80636400,
          83524000,
          57319200,
          57254000,
          69574300,
          62361500,
          90816100,
          106555100,
          113258800,
          100728000,
          140920100,
          91322400,
          97084700,
          134816100,
          84587300,
          107743100,
          90118300,
          131796400,
          108364800,
          90102500,
          173174800,
          294681800,
          355026800,
          167376100,
          246449500,
          283565300,
          143736000,
          81223600,
          120735700,
          111200300,
          160420100,
          86369700,
          98883700,
          110511300,
          92766400,
          86491400,
          99099200,
          121907800,
          176855100,
          139083200,
          97307400,
          79213200,
          87063500,
          66901200,
          113625300,
          71924800,
          91968900,
          105895100,
          83433000,
          100343700,
          109208400,
          59757300,
          78709600,
          148785900,
          183534800,
          141956100,
          129941400,
          146452300,
          111601600,
          186286300,
          119956900,
          123715300,
          82652600,
          179521200,
          105442900,
          103529000,
          91140200,
          68890500,
          85079200,
          63405300,
          64682000,
          57303900,
          77655900,
          99953100,
          65558000,
          112885500,
          103840900,
          67731900,
          57053600,
          82182300,
          74203400,
          86368900,
          136311500,
          91222100,
          55304900,
          67499200,
          59666100,
          72063900,
          59871500,
          54790600,
          87036100,
          53942600,
          56536400,
          64368000,
          58025900,
          52966400,
          64694200,
          76043800,
          56374800,
          115908600,
          69678400,
          93519900,
          71258400,
          45385200,
          51135000,
          62732200,
          72969400,
          72139700,
          58892500,
          72329000,
          79070600,
          77097600,
          120041600,
          52917600,
          97531500,
          53785500,
          71061400,
          54898500,
          137854200,
          68547400,
          105110700,
          76650500,
          97592500,
          63554800,
          42187100,
          56925900,
          66493700,
          50550400,
          51966800,
          77054700,
          60124700,
          48216000,
          48201000,
          52315500,
          44593500,
          61412100,
          82337700,
          47047600,
          68026900,
          78882900,
          57919500,
          76768700,
          63742500,
          68570500,
          53853300,
          63426400,
          53935400,
          39400900,
          43196600,
          42114600,
          35717000,
          77076000,
          65732900,
          43842000,
          102925400,
          69967900,
          65618500,
          39807500,
          67272000,
          44993300,
          49204900,
          57487400,
          57072400,
          46943500,
          61485500,
          61229500,
          66140800,
          57594400,
          72452400,
          65909900,
          73524800,
          50210900,
          50530500,
          59810800,
          51034200,
          55079900,
          68244000,
          61930400,
          49080600,
          100360600,
          105479700,
          53409600,
          44370000,
          79739700,
          59249500,
          70091400,
          62078900,
          47258200,
          64694600,
          111545900,
          105951700,
          87742200,
          74339000,
          214731000,
          274840500,
          183186500,
          102263700,
          118255800,
          110626000,
          134557500,
          139901600,
          82415800,
          146352700,
          177806700,
          138061500,
          201574600,
          160749100,
          157116000,
          128296300,
          99495000,
          122634100,
          65622500,
          60085900,
          102752100,
          65584900,
          98812600,
          99673600,
          98176600,
          125335900,
          135101400,
          126668000,
          103061700,
          136021300,
          75563700,
          42807900,
          79981400,
          75502400,
          127629600,
          82346400,
          98204200,
          103176300,
          177986000,
          204185400,
          161018900,
          151445900,
          121504400,
          97976700,
          96662700,
          116961100,
          165492300,
          134515100,
          214992800,
          252053400,
          255345600,
          147311600,
          218485400,
          186267300,
          153100200,
          144299400,
          126925200,
          144140700,
          142628800,
          103139100,
          102512600,
          95006600,
          96823900,
          73858100,
          70908200,
          85208300,
          77636700,
          96118400,
          127900300,
          115531200,
          86030300,
          59204100,
          96883400,
          85613700,
          66136300,
          92473700,
          104012100,
          85782500,
          60744800,
          79552800,
          58347800,
          95482000,
          75788900,
          68021400,
          72270200,
          65277200,
          83234400,
          97088700,
          59120800,
          76610800,
          64214700,
          78114600,
          69030700,
          56844100,
          56921600,
          69268300,
          78880500,
          106494600,
          59114600,
          75039800,
          94885100,
          85795800,
          65098900,
          79667500,
          80639200,
          67518400,
          81309000,
          62199800,
          90268100,
          84609200,
          79550400,
          122659300,
          85575200,
          68125900,
          72224700,
          56238500,
          82186800,
          77617900,
          40070400,
          68243200,
          48997500,
          58621700,
          53566300,
          66142300,
          52601500,
          55093100,
          69727800,
          49596700,
          52153200,
          58268300,
          68708500,
          40160100,
          52246600,
          50392900,
          57770900,
          50916400,
          57197700,
          81111700,
          71671900,
          65030200,
          56543700,
          107198100,
          144729900,
          91568300,
          103471100,
          112429300,
          127290500,
          77003200,
          73956400,
          76749600,
          100353000,
          62877600,
          46847100,
          49482500,
          98733800,
          55268100,
          70029400,
          104972900,
          62523800,
          86862800,
          96428000,
          77231900,
          71169700,
          69430400,
          74272200,
          60799100,
          58641300,
          46984700,
          48945200,
          52324700,
          39205700,
          85434800,
          78674400,
          116570000,
          83309500,
          47582700,
          82028700,
          51584900,
          40355200,
          59350900,
          79107500,
          61504500,
          40898900,
          51677300,
          45841800,
          41101300,
          58448500,
          50826100,
          40326000,
          33900000,
          36650100,
          36036300,
          51392600,
          58678600,
          43638100,
          44564500,
          47213200,
          55394100,
          45084100,
          38126500,
          45849000,
          104245200,
          142646600,
          116749700,
          178745400,
          120711700,
          140572300,
          87713900,
          93730000,
          62629500,
          94299800,
          135622100,
          99556600,
          83018300,
          53571800,
          51596400,
          49524700,
          51666400,
          149161500,
          72423800,
          66668900,
          59696700,
          57899400,
          62901200,
          69101400,
          46887300,
          83258100,
          49584300,
          51260300,
          57947100,
          68821100,
          72908700,
          62104800,
          58191200,
          41475500,
          73375800,
          76560500,
          89565000,
          43476800,
          94869400,
          71854000,
          56179700,
          84746600,
          51662400,
          88242400,
          122539500,
          85278800,
          65091200,
          59610500,
          95708100,
          62359400,
          55296300,
          98720400,
          40394800,
          46754500,
          48928200,
          45736600,
          64304000,
          39048600,
          48594700,
          34352200,
          35453100,
          45205400,
          42147000,
          44284900,
          49643900,
          69053800,
          71141500,
          60606900,
          42933200,
          46487100,
          54272300,
          49032100,
          35797300,
          46484600,
          53917700,
          51219900,
          62023600,
          49228000,
          67804700,
          79406200,
          54664700,
          44850200,
          48647200,
          37569000,
          44444600,
          36592700,
          75767800,
          73941700,
          49080000,
          40709000,
          48927000,
          34838500,
          52649800,
          53429100,
          96389600,
          81503900,
          82749700,
          61097700,
          48133000,
          85310500,
          147142100,
          52990000,
          20270000,
          30911200,
          42528800,
          49729100,
          57077300,
          59151200,
          77709700,
          55653900,
          40496400,
          68296000,
          48473300,
          53029300,
          47086800,
          62832800,
          72056600,
          54050300,
          95846000,
          77742400,
          48914900,
          51963000,
          87578400,
          84062500,
          63834000,
          53888900,
          75491800,
          113845600,
          69242300,
          62573200,
          65951100,
          50359700,
          64139400,
          42070000,
          54864500,
          43992700,
          54501900,
          64582200,
          57226200,
          48814700,
          74163400,
          113788200,
          161088400,
          218913200,
          194773800,
          284353500,
          385764000,
          238703600,
          300139100,
          176613400,
          186366800,
          228667200,
          309417300,
          276444100,
          255316300,
          392220700,
          329566100,
          297240000,
          262070500,
          327597100,
          289322000,
          344304300,
          326025200,
          235494500,
          299430300,
          257632800,
          224341200,
          171369500,
          194881100,
          189554600,
          177660400,
          135561200,
          188061200,
          201427200,
          153774500,
          190282700,
          114839100,
          134143400,
          121775000,
          131798300,
          146684800,
          100109300,
          126385700,
          93524600,
          104709700,
          85166000,
          77896600,
          105270000,
          118745600,
          121841200,
          125180000,
          80873200,
          79569900,
          73632600,
          75250400,
          76622100,
          79514200,
          95870800,
          144721100,
          121977900,
          111146300,
          120320200,
          95189300,
          85861700,
          78293900,
          63958200,
          88951400,
          104817400,
          90405200,
          119265700,
          55758300,
          74267200,
          92567600,
          75794400,
          150524700,
          73641200,
          77479200,
          95000800,
          209243600,
          194529100,
          135782700,
          137627500,
          82954600,
          80828700,
          135549600,
          74649400,
          68471200,
          132813500,
          89468000,
          127961000,
          79773300,
          113394800,
          72396500,
          69344200,
          61713800,
          82910000,
          54638600,
          83354200,
          57550400,
          102997500,
          93657000,
          87196500,
          54622500,
          62774900,
          56308800,
          57499000,
          57792900,
          75738000,
          73766600,
          48293000,
          57495000,
          48454200,
          61861700,
          85210800,
          53077900,
          41917900,
          42866400,
          43679400,
          57265200,
          44282100,
          69601100,
          53826100,
          41816100,
          47260400,
          35481000,
          38733900,
          68054200,
          42207800,
          55106600,
          48588700,
          38463400,
          50790200,
          58034100,
          48588900,
          66099200,
          54999300,
          69540000,
          148011100,
          139156300,
          114465300,
          91462300,
          90569500,
          84680200,
          65605700,
          52920900,
          82096000,
          91523300,
          105790800
         ],
         "xaxis": "x",
         "yaxis": "y"
        }
       ],
       "layout": {
        "barmode": "relative",
        "legend": {
         "tracegroupgap": 0
        },
        "margin": {
         "t": 60
        },
        "showlegend": false,
        "template": {
         "data": {
          "bar": [
           {
            "error_x": {
             "color": "#2a3f5f"
            },
            "error_y": {
             "color": "#2a3f5f"
            },
            "marker": {
             "line": {
              "color": "#E5ECF6",
              "width": 0.5
             },
             "pattern": {
              "fillmode": "overlay",
              "size": 10,
              "solidity": 0.2
             }
            },
            "type": "bar"
           }
          ],
          "barpolar": [
           {
            "marker": {
             "line": {
              "color": "#E5ECF6",
              "width": 0.5
             },
             "pattern": {
              "fillmode": "overlay",
              "size": 10,
              "solidity": 0.2
             }
            },
            "type": "barpolar"
           }
          ],
          "carpet": [
           {
            "aaxis": {
             "endlinecolor": "#2a3f5f",
             "gridcolor": "white",
             "linecolor": "white",
             "minorgridcolor": "white",
             "startlinecolor": "#2a3f5f"
            },
            "baxis": {
             "endlinecolor": "#2a3f5f",
             "gridcolor": "white",
             "linecolor": "white",
             "minorgridcolor": "white",
             "startlinecolor": "#2a3f5f"
            },
            "type": "carpet"
           }
          ],
          "choropleth": [
           {
            "colorbar": {
             "outlinewidth": 0,
             "ticks": ""
            },
            "type": "choropleth"
           }
          ],
          "contour": [
           {
            "colorbar": {
             "outlinewidth": 0,
             "ticks": ""
            },
            "colorscale": [
             [
              0,
              "#0d0887"
             ],
             [
              0.1111111111111111,
              "#46039f"
             ],
             [
              0.2222222222222222,
              "#7201a8"
             ],
             [
              0.3333333333333333,
              "#9c179e"
             ],
             [
              0.4444444444444444,
              "#bd3786"
             ],
             [
              0.5555555555555556,
              "#d8576b"
             ],
             [
              0.6666666666666666,
              "#ed7953"
             ],
             [
              0.7777777777777778,
              "#fb9f3a"
             ],
             [
              0.8888888888888888,
              "#fdca26"
             ],
             [
              1,
              "#f0f921"
             ]
            ],
            "type": "contour"
           }
          ],
          "contourcarpet": [
           {
            "colorbar": {
             "outlinewidth": 0,
             "ticks": ""
            },
            "type": "contourcarpet"
           }
          ],
          "heatmap": [
           {
            "colorbar": {
             "outlinewidth": 0,
             "ticks": ""
            },
            "colorscale": [
             [
              0,
              "#0d0887"
             ],
             [
              0.1111111111111111,
              "#46039f"
             ],
             [
              0.2222222222222222,
              "#7201a8"
             ],
             [
              0.3333333333333333,
              "#9c179e"
             ],
             [
              0.4444444444444444,
              "#bd3786"
             ],
             [
              0.5555555555555556,
              "#d8576b"
             ],
             [
              0.6666666666666666,
              "#ed7953"
             ],
             [
              0.7777777777777778,
              "#fb9f3a"
             ],
             [
              0.8888888888888888,
              "#fdca26"
             ],
             [
              1,
              "#f0f921"
             ]
            ],
            "type": "heatmap"
           }
          ],
          "heatmapgl": [
           {
            "colorbar": {
             "outlinewidth": 0,
             "ticks": ""
            },
            "colorscale": [
             [
              0,
              "#0d0887"
             ],
             [
              0.1111111111111111,
              "#46039f"
             ],
             [
              0.2222222222222222,
              "#7201a8"
             ],
             [
              0.3333333333333333,
              "#9c179e"
             ],
             [
              0.4444444444444444,
              "#bd3786"
             ],
             [
              0.5555555555555556,
              "#d8576b"
             ],
             [
              0.6666666666666666,
              "#ed7953"
             ],
             [
              0.7777777777777778,
              "#fb9f3a"
             ],
             [
              0.8888888888888888,
              "#fdca26"
             ],
             [
              1,
              "#f0f921"
             ]
            ],
            "type": "heatmapgl"
           }
          ],
          "histogram": [
           {
            "marker": {
             "pattern": {
              "fillmode": "overlay",
              "size": 10,
              "solidity": 0.2
             }
            },
            "type": "histogram"
           }
          ],
          "histogram2d": [
           {
            "colorbar": {
             "outlinewidth": 0,
             "ticks": ""
            },
            "colorscale": [
             [
              0,
              "#0d0887"
             ],
             [
              0.1111111111111111,
              "#46039f"
             ],
             [
              0.2222222222222222,
              "#7201a8"
             ],
             [
              0.3333333333333333,
              "#9c179e"
             ],
             [
              0.4444444444444444,
              "#bd3786"
             ],
             [
              0.5555555555555556,
              "#d8576b"
             ],
             [
              0.6666666666666666,
              "#ed7953"
             ],
             [
              0.7777777777777778,
              "#fb9f3a"
             ],
             [
              0.8888888888888888,
              "#fdca26"
             ],
             [
              1,
              "#f0f921"
             ]
            ],
            "type": "histogram2d"
           }
          ],
          "histogram2dcontour": [
           {
            "colorbar": {
             "outlinewidth": 0,
             "ticks": ""
            },
            "colorscale": [
             [
              0,
              "#0d0887"
             ],
             [
              0.1111111111111111,
              "#46039f"
             ],
             [
              0.2222222222222222,
              "#7201a8"
             ],
             [
              0.3333333333333333,
              "#9c179e"
             ],
             [
              0.4444444444444444,
              "#bd3786"
             ],
             [
              0.5555555555555556,
              "#d8576b"
             ],
             [
              0.6666666666666666,
              "#ed7953"
             ],
             [
              0.7777777777777778,
              "#fb9f3a"
             ],
             [
              0.8888888888888888,
              "#fdca26"
             ],
             [
              1,
              "#f0f921"
             ]
            ],
            "type": "histogram2dcontour"
           }
          ],
          "mesh3d": [
           {
            "colorbar": {
             "outlinewidth": 0,
             "ticks": ""
            },
            "type": "mesh3d"
           }
          ],
          "parcoords": [
           {
            "line": {
             "colorbar": {
              "outlinewidth": 0,
              "ticks": ""
             }
            },
            "type": "parcoords"
           }
          ],
          "pie": [
           {
            "automargin": true,
            "type": "pie"
           }
          ],
          "scatter": [
           {
            "marker": {
             "colorbar": {
              "outlinewidth": 0,
              "ticks": ""
             }
            },
            "type": "scatter"
           }
          ],
          "scatter3d": [
           {
            "line": {
             "colorbar": {
              "outlinewidth": 0,
              "ticks": ""
             }
            },
            "marker": {
             "colorbar": {
              "outlinewidth": 0,
              "ticks": ""
             }
            },
            "type": "scatter3d"
           }
          ],
          "scattercarpet": [
           {
            "marker": {
             "colorbar": {
              "outlinewidth": 0,
              "ticks": ""
             }
            },
            "type": "scattercarpet"
           }
          ],
          "scattergeo": [
           {
            "marker": {
             "colorbar": {
              "outlinewidth": 0,
              "ticks": ""
             }
            },
            "type": "scattergeo"
           }
          ],
          "scattergl": [
           {
            "marker": {
             "colorbar": {
              "outlinewidth": 0,
              "ticks": ""
             }
            },
            "type": "scattergl"
           }
          ],
          "scattermapbox": [
           {
            "marker": {
             "colorbar": {
              "outlinewidth": 0,
              "ticks": ""
             }
            },
            "type": "scattermapbox"
           }
          ],
          "scatterpolar": [
           {
            "marker": {
             "colorbar": {
              "outlinewidth": 0,
              "ticks": ""
             }
            },
            "type": "scatterpolar"
           }
          ],
          "scatterpolargl": [
           {
            "marker": {
             "colorbar": {
              "outlinewidth": 0,
              "ticks": ""
             }
            },
            "type": "scatterpolargl"
           }
          ],
          "scatterternary": [
           {
            "marker": {
             "colorbar": {
              "outlinewidth": 0,
              "ticks": ""
             }
            },
            "type": "scatterternary"
           }
          ],
          "surface": [
           {
            "colorbar": {
             "outlinewidth": 0,
             "ticks": ""
            },
            "colorscale": [
             [
              0,
              "#0d0887"
             ],
             [
              0.1111111111111111,
              "#46039f"
             ],
             [
              0.2222222222222222,
              "#7201a8"
             ],
             [
              0.3333333333333333,
              "#9c179e"
             ],
             [
              0.4444444444444444,
              "#bd3786"
             ],
             [
              0.5555555555555556,
              "#d8576b"
             ],
             [
              0.6666666666666666,
              "#ed7953"
             ],
             [
              0.7777777777777778,
              "#fb9f3a"
             ],
             [
              0.8888888888888888,
              "#fdca26"
             ],
             [
              1,
              "#f0f921"
             ]
            ],
            "type": "surface"
           }
          ],
          "table": [
           {
            "cells": {
             "fill": {
              "color": "#EBF0F8"
             },
             "line": {
              "color": "white"
             }
            },
            "header": {
             "fill": {
              "color": "#C8D4E3"
             },
             "line": {
              "color": "white"
             }
            },
            "type": "table"
           }
          ]
         },
         "layout": {
          "annotationdefaults": {
           "arrowcolor": "#2a3f5f",
           "arrowhead": 0,
           "arrowwidth": 1
          },
          "autotypenumbers": "strict",
          "coloraxis": {
           "colorbar": {
            "outlinewidth": 0,
            "ticks": ""
           }
          },
          "colorscale": {
           "diverging": [
            [
             0,
             "#8e0152"
            ],
            [
             0.1,
             "#c51b7d"
            ],
            [
             0.2,
             "#de77ae"
            ],
            [
             0.3,
             "#f1b6da"
            ],
            [
             0.4,
             "#fde0ef"
            ],
            [
             0.5,
             "#f7f7f7"
            ],
            [
             0.6,
             "#e6f5d0"
            ],
            [
             0.7,
             "#b8e186"
            ],
            [
             0.8,
             "#7fbc41"
            ],
            [
             0.9,
             "#4d9221"
            ],
            [
             1,
             "#276419"
            ]
           ],
           "sequential": [
            [
             0,
             "#0d0887"
            ],
            [
             0.1111111111111111,
             "#46039f"
            ],
            [
             0.2222222222222222,
             "#7201a8"
            ],
            [
             0.3333333333333333,
             "#9c179e"
            ],
            [
             0.4444444444444444,
             "#bd3786"
            ],
            [
             0.5555555555555556,
             "#d8576b"
            ],
            [
             0.6666666666666666,
             "#ed7953"
            ],
            [
             0.7777777777777778,
             "#fb9f3a"
            ],
            [
             0.8888888888888888,
             "#fdca26"
            ],
            [
             1,
             "#f0f921"
            ]
           ],
           "sequentialminus": [
            [
             0,
             "#0d0887"
            ],
            [
             0.1111111111111111,
             "#46039f"
            ],
            [
             0.2222222222222222,
             "#7201a8"
            ],
            [
             0.3333333333333333,
             "#9c179e"
            ],
            [
             0.4444444444444444,
             "#bd3786"
            ],
            [
             0.5555555555555556,
             "#d8576b"
            ],
            [
             0.6666666666666666,
             "#ed7953"
            ],
            [
             0.7777777777777778,
             "#fb9f3a"
            ],
            [
             0.8888888888888888,
             "#fdca26"
            ],
            [
             1,
             "#f0f921"
            ]
           ]
          },
          "colorway": [
           "#636efa",
           "#EF553B",
           "#00cc96",
           "#ab63fa",
           "#FFA15A",
           "#19d3f3",
           "#FF6692",
           "#B6E880",
           "#FF97FF",
           "#FECB52"
          ],
          "font": {
           "color": "#2a3f5f"
          },
          "geo": {
           "bgcolor": "white",
           "lakecolor": "white",
           "landcolor": "#E5ECF6",
           "showlakes": true,
           "showland": true,
           "subunitcolor": "white"
          },
          "hoverlabel": {
           "align": "left"
          },
          "hovermode": "closest",
          "mapbox": {
           "style": "light"
          },
          "paper_bgcolor": "white",
          "plot_bgcolor": "#E5ECF6",
          "polar": {
           "angularaxis": {
            "gridcolor": "white",
            "linecolor": "white",
            "ticks": ""
           },
           "bgcolor": "#E5ECF6",
           "radialaxis": {
            "gridcolor": "white",
            "linecolor": "white",
            "ticks": ""
           }
          },
          "scene": {
           "xaxis": {
            "backgroundcolor": "#E5ECF6",
            "gridcolor": "white",
            "gridwidth": 2,
            "linecolor": "white",
            "showbackground": true,
            "ticks": "",
            "zerolinecolor": "white"
           },
           "yaxis": {
            "backgroundcolor": "#E5ECF6",
            "gridcolor": "white",
            "gridwidth": 2,
            "linecolor": "white",
            "showbackground": true,
            "ticks": "",
            "zerolinecolor": "white"
           },
           "zaxis": {
            "backgroundcolor": "#E5ECF6",
            "gridcolor": "white",
            "gridwidth": 2,
            "linecolor": "white",
            "showbackground": true,
            "ticks": "",
            "zerolinecolor": "white"
           }
          },
          "shapedefaults": {
           "line": {
            "color": "#2a3f5f"
           }
          },
          "ternary": {
           "aaxis": {
            "gridcolor": "white",
            "linecolor": "white",
            "ticks": ""
           },
           "baxis": {
            "gridcolor": "white",
            "linecolor": "white",
            "ticks": ""
           },
           "bgcolor": "#E5ECF6",
           "caxis": {
            "gridcolor": "white",
            "linecolor": "white",
            "ticks": ""
           }
          },
          "title": {
           "x": 0.05
          },
          "xaxis": {
           "automargin": true,
           "gridcolor": "white",
           "linecolor": "white",
           "ticks": "",
           "title": {
            "standoff": 15
           },
           "zerolinecolor": "white",
           "zerolinewidth": 2
          },
          "yaxis": {
           "automargin": true,
           "gridcolor": "white",
           "linecolor": "white",
           "ticks": "",
           "title": {
            "standoff": 15
           },
           "zerolinecolor": "white",
           "zerolinewidth": 2
          }
         }
        },
        "title": {
         "x": 0.5
        },
        "xaxis": {
         "anchor": "y",
         "domain": [
          0,
          1
         ],
         "title": {
          "text": "Volume"
         }
        },
        "yaxis": {
         "anchor": "x",
         "domain": [
          0,
          1
         ],
         "title": {
          "text": "count"
         }
        }
       }
      }
     },
     "metadata": {},
     "output_type": "display_data"
    }
   ],
   "source": [
    "fig1 = px.bar(data['Fear Greed'].value_counts(),title=\"Fear Greed\")\n",
    "fig1.update_layout(showlegend=False,title_x=0.5)\n",
    "fig2 = px.histogram(data, x=\"Volume\", nbins=20)\n",
    "fig2.update_layout(showlegend=False,title_x=0.5)"
   ]
  },
  {
   "cell_type": "code",
   "execution_count": 22,
   "metadata": {},
   "outputs": [
    {
     "data": {
      "application/vnd.plotly.v1+json": {
       "config": {
        "plotlyServerURL": "https://plot.ly"
       },
       "data": [
        {
         "type": "scatter",
         "x": [
          "2019-01-02T00:00:00",
          "2019-01-03T00:00:00",
          "2019-01-04T00:00:00",
          "2019-01-07T00:00:00",
          "2019-01-08T00:00:00",
          "2019-01-09T00:00:00",
          "2019-01-10T00:00:00",
          "2019-01-11T00:00:00",
          "2019-01-14T00:00:00",
          "2019-01-15T00:00:00",
          "2019-01-16T00:00:00",
          "2019-01-17T00:00:00",
          "2019-01-18T00:00:00",
          "2019-01-22T00:00:00",
          "2019-01-23T00:00:00",
          "2019-01-24T00:00:00",
          "2019-01-25T00:00:00",
          "2019-01-28T00:00:00",
          "2019-01-29T00:00:00",
          "2019-01-30T00:00:00",
          "2019-01-31T00:00:00",
          "2019-02-01T00:00:00",
          "2019-02-04T00:00:00",
          "2019-02-05T00:00:00",
          "2019-02-06T00:00:00",
          "2019-02-07T00:00:00",
          "2019-02-08T00:00:00",
          "2019-02-11T00:00:00",
          "2019-02-12T00:00:00",
          "2019-02-13T00:00:00",
          "2019-02-14T00:00:00",
          "2019-02-15T00:00:00",
          "2019-02-19T00:00:00",
          "2019-02-20T00:00:00",
          "2019-02-21T00:00:00",
          "2019-02-22T00:00:00",
          "2019-02-25T00:00:00",
          "2019-02-26T00:00:00",
          "2019-02-27T00:00:00",
          "2019-02-28T00:00:00",
          "2019-03-01T00:00:00",
          "2019-03-04T00:00:00",
          "2019-03-05T00:00:00",
          "2019-03-06T00:00:00",
          "2019-03-07T00:00:00",
          "2019-03-08T00:00:00",
          "2019-03-11T00:00:00",
          "2019-03-12T00:00:00",
          "2019-03-13T00:00:00",
          "2019-03-14T00:00:00",
          "2019-03-15T00:00:00",
          "2019-03-18T00:00:00",
          "2019-03-19T00:00:00",
          "2019-03-20T00:00:00",
          "2019-03-21T00:00:00",
          "2019-03-22T00:00:00",
          "2019-03-25T00:00:00",
          "2019-03-26T00:00:00",
          "2019-03-27T00:00:00",
          "2019-03-28T00:00:00",
          "2019-03-29T00:00:00",
          "2019-04-01T00:00:00",
          "2019-04-02T00:00:00",
          "2019-04-03T00:00:00",
          "2019-04-04T00:00:00",
          "2019-04-05T00:00:00",
          "2019-04-08T00:00:00",
          "2019-04-09T00:00:00",
          "2019-04-10T00:00:00",
          "2019-04-11T00:00:00",
          "2019-04-12T00:00:00",
          "2019-04-15T00:00:00",
          "2019-04-16T00:00:00",
          "2019-04-17T00:00:00",
          "2019-04-18T00:00:00",
          "2019-04-22T00:00:00",
          "2019-04-23T00:00:00",
          "2019-04-24T00:00:00",
          "2019-04-25T00:00:00",
          "2019-04-26T00:00:00",
          "2019-04-29T00:00:00",
          "2019-04-30T00:00:00",
          "2019-05-01T00:00:00",
          "2019-05-02T00:00:00",
          "2019-05-03T00:00:00",
          "2019-05-06T00:00:00",
          "2019-05-07T00:00:00",
          "2019-05-08T00:00:00",
          "2019-05-09T00:00:00",
          "2019-05-10T00:00:00",
          "2019-05-13T00:00:00",
          "2019-05-14T00:00:00",
          "2019-05-15T00:00:00",
          "2019-05-16T00:00:00",
          "2019-05-17T00:00:00",
          "2019-05-20T00:00:00",
          "2019-05-21T00:00:00",
          "2019-05-22T00:00:00",
          "2019-05-23T00:00:00",
          "2019-05-24T00:00:00",
          "2019-05-28T00:00:00",
          "2019-05-29T00:00:00",
          "2019-05-30T00:00:00",
          "2019-05-31T00:00:00",
          "2019-06-03T00:00:00",
          "2019-06-04T00:00:00",
          "2019-06-05T00:00:00",
          "2019-06-06T00:00:00",
          "2019-06-07T00:00:00",
          "2019-06-10T00:00:00",
          "2019-06-11T00:00:00",
          "2019-06-12T00:00:00",
          "2019-06-13T00:00:00",
          "2019-06-14T00:00:00",
          "2019-06-17T00:00:00",
          "2019-06-18T00:00:00",
          "2019-06-19T00:00:00",
          "2019-06-20T00:00:00",
          "2019-06-21T00:00:00",
          "2019-06-24T00:00:00",
          "2019-06-25T00:00:00",
          "2019-06-26T00:00:00",
          "2019-06-27T00:00:00",
          "2019-06-28T00:00:00",
          "2019-07-01T00:00:00",
          "2019-07-02T00:00:00",
          "2019-07-03T00:00:00",
          "2019-07-05T00:00:00",
          "2019-07-08T00:00:00",
          "2019-07-09T00:00:00",
          "2019-07-10T00:00:00",
          "2019-07-11T00:00:00",
          "2019-07-12T00:00:00",
          "2019-07-15T00:00:00",
          "2019-07-16T00:00:00",
          "2019-07-17T00:00:00",
          "2019-07-18T00:00:00",
          "2019-07-19T00:00:00",
          "2019-07-22T00:00:00",
          "2019-07-23T00:00:00",
          "2019-07-24T00:00:00",
          "2019-07-25T00:00:00",
          "2019-07-26T00:00:00",
          "2019-07-29T00:00:00",
          "2019-07-30T00:00:00",
          "2019-07-31T00:00:00",
          "2019-08-01T00:00:00",
          "2019-08-02T00:00:00",
          "2019-08-05T00:00:00",
          "2019-08-06T00:00:00",
          "2019-08-07T00:00:00",
          "2019-08-08T00:00:00",
          "2019-08-09T00:00:00",
          "2019-08-12T00:00:00",
          "2019-08-13T00:00:00",
          "2019-08-14T00:00:00",
          "2019-08-15T00:00:00",
          "2019-08-16T00:00:00",
          "2019-08-19T00:00:00",
          "2019-08-20T00:00:00",
          "2019-08-21T00:00:00",
          "2019-08-22T00:00:00",
          "2019-08-23T00:00:00",
          "2019-08-26T00:00:00",
          "2019-08-27T00:00:00",
          "2019-08-28T00:00:00",
          "2019-08-29T00:00:00",
          "2019-08-30T00:00:00",
          "2019-09-03T00:00:00",
          "2019-09-04T00:00:00",
          "2019-09-05T00:00:00",
          "2019-09-06T00:00:00",
          "2019-09-09T00:00:00",
          "2019-09-10T00:00:00",
          "2019-09-11T00:00:00",
          "2019-09-12T00:00:00",
          "2019-09-13T00:00:00",
          "2019-09-16T00:00:00",
          "2019-09-17T00:00:00",
          "2019-09-18T00:00:00",
          "2019-09-19T00:00:00",
          "2019-09-20T00:00:00",
          "2019-09-23T00:00:00",
          "2019-09-24T00:00:00",
          "2019-09-25T00:00:00",
          "2019-09-26T00:00:00",
          "2019-09-27T00:00:00",
          "2019-09-30T00:00:00",
          "2019-10-01T00:00:00",
          "2019-10-02T00:00:00",
          "2019-10-03T00:00:00",
          "2019-10-04T00:00:00",
          "2019-10-07T00:00:00",
          "2019-10-08T00:00:00",
          "2019-10-09T00:00:00",
          "2019-10-10T00:00:00",
          "2019-10-11T00:00:00",
          "2019-10-14T00:00:00",
          "2019-10-15T00:00:00",
          "2019-10-16T00:00:00",
          "2019-10-17T00:00:00",
          "2019-10-18T00:00:00",
          "2019-10-21T00:00:00",
          "2019-10-22T00:00:00",
          "2019-10-23T00:00:00",
          "2019-10-24T00:00:00",
          "2019-10-25T00:00:00",
          "2019-10-28T00:00:00",
          "2019-10-29T00:00:00",
          "2019-10-30T00:00:00",
          "2019-10-31T00:00:00",
          "2019-11-01T00:00:00",
          "2019-11-04T00:00:00",
          "2019-11-05T00:00:00",
          "2019-11-06T00:00:00",
          "2019-11-07T00:00:00",
          "2019-11-08T00:00:00",
          "2019-11-11T00:00:00",
          "2019-11-12T00:00:00",
          "2019-11-13T00:00:00",
          "2019-11-14T00:00:00",
          "2019-11-15T00:00:00",
          "2019-11-18T00:00:00",
          "2019-11-19T00:00:00",
          "2019-11-20T00:00:00",
          "2019-11-21T00:00:00",
          "2019-11-22T00:00:00",
          "2019-11-25T00:00:00",
          "2019-11-26T00:00:00",
          "2019-11-27T00:00:00",
          "2019-11-29T00:00:00",
          "2019-12-02T00:00:00",
          "2019-12-03T00:00:00",
          "2019-12-04T00:00:00",
          "2019-12-05T00:00:00",
          "2019-12-06T00:00:00",
          "2019-12-09T00:00:00",
          "2019-12-10T00:00:00",
          "2019-12-11T00:00:00",
          "2019-12-12T00:00:00",
          "2019-12-13T00:00:00",
          "2019-12-16T00:00:00",
          "2019-12-17T00:00:00",
          "2019-12-18T00:00:00",
          "2019-12-19T00:00:00",
          "2019-12-20T00:00:00",
          "2019-12-23T00:00:00",
          "2019-12-24T00:00:00",
          "2019-12-26T00:00:00",
          "2019-12-27T00:00:00",
          "2019-12-30T00:00:00",
          "2019-12-31T00:00:00",
          "2020-01-02T00:00:00",
          "2020-01-03T00:00:00",
          "2020-01-06T00:00:00",
          "2020-01-07T00:00:00",
          "2020-01-08T00:00:00",
          "2020-01-09T00:00:00",
          "2020-01-10T00:00:00",
          "2020-01-13T00:00:00",
          "2020-01-14T00:00:00",
          "2020-01-15T00:00:00",
          "2020-01-16T00:00:00",
          "2020-01-17T00:00:00",
          "2020-01-21T00:00:00",
          "2020-01-22T00:00:00",
          "2020-01-23T00:00:00",
          "2020-01-24T00:00:00",
          "2020-01-27T00:00:00",
          "2020-01-28T00:00:00",
          "2020-01-29T00:00:00",
          "2020-01-30T00:00:00",
          "2020-01-31T00:00:00",
          "2020-02-03T00:00:00",
          "2020-02-04T00:00:00",
          "2020-02-05T00:00:00",
          "2020-02-06T00:00:00",
          "2020-02-07T00:00:00",
          "2020-02-10T00:00:00",
          "2020-02-11T00:00:00",
          "2020-02-12T00:00:00",
          "2020-02-13T00:00:00",
          "2020-02-14T00:00:00",
          "2020-02-18T00:00:00",
          "2020-02-19T00:00:00",
          "2020-02-20T00:00:00",
          "2020-02-21T00:00:00",
          "2020-02-24T00:00:00",
          "2020-02-25T00:00:00",
          "2020-02-26T00:00:00",
          "2020-02-27T00:00:00",
          "2020-02-28T00:00:00",
          "2020-03-02T00:00:00",
          "2020-03-03T00:00:00",
          "2020-03-04T00:00:00",
          "2020-03-05T00:00:00",
          "2020-03-06T00:00:00",
          "2020-03-09T00:00:00",
          "2020-03-10T00:00:00",
          "2020-03-11T00:00:00",
          "2020-03-12T00:00:00",
          "2020-03-13T00:00:00",
          "2020-03-16T00:00:00",
          "2020-03-17T00:00:00",
          "2020-03-18T00:00:00",
          "2020-03-19T00:00:00",
          "2020-03-20T00:00:00",
          "2020-03-23T00:00:00",
          "2020-03-24T00:00:00",
          "2020-03-25T00:00:00",
          "2020-03-26T00:00:00",
          "2020-03-27T00:00:00",
          "2020-03-30T00:00:00",
          "2020-03-31T00:00:00",
          "2020-04-01T00:00:00",
          "2020-04-02T00:00:00",
          "2020-04-03T00:00:00",
          "2020-04-06T00:00:00",
          "2020-04-07T00:00:00",
          "2020-04-08T00:00:00",
          "2020-04-09T00:00:00",
          "2020-04-13T00:00:00",
          "2020-04-14T00:00:00",
          "2020-04-15T00:00:00",
          "2020-04-16T00:00:00",
          "2020-04-17T00:00:00",
          "2020-04-20T00:00:00",
          "2020-04-21T00:00:00",
          "2020-04-22T00:00:00",
          "2020-04-23T00:00:00",
          "2020-04-24T00:00:00",
          "2020-04-27T00:00:00",
          "2020-04-28T00:00:00",
          "2020-04-29T00:00:00",
          "2020-04-30T00:00:00",
          "2020-05-01T00:00:00",
          "2020-05-04T00:00:00",
          "2020-05-05T00:00:00",
          "2020-05-06T00:00:00",
          "2020-05-07T00:00:00",
          "2020-05-08T00:00:00",
          "2020-05-11T00:00:00",
          "2020-05-12T00:00:00",
          "2020-05-13T00:00:00",
          "2020-05-14T00:00:00",
          "2020-05-15T00:00:00",
          "2020-05-18T00:00:00",
          "2020-05-19T00:00:00",
          "2020-05-20T00:00:00",
          "2020-05-21T00:00:00",
          "2020-05-22T00:00:00",
          "2020-05-26T00:00:00",
          "2020-05-27T00:00:00",
          "2020-05-28T00:00:00",
          "2020-05-29T00:00:00",
          "2020-06-01T00:00:00",
          "2020-06-02T00:00:00",
          "2020-06-03T00:00:00",
          "2020-06-04T00:00:00",
          "2020-06-05T00:00:00",
          "2020-06-08T00:00:00",
          "2020-06-09T00:00:00",
          "2020-06-10T00:00:00",
          "2020-06-11T00:00:00",
          "2020-06-12T00:00:00",
          "2020-06-15T00:00:00",
          "2020-06-16T00:00:00",
          "2020-06-17T00:00:00",
          "2020-06-18T00:00:00",
          "2020-06-19T00:00:00",
          "2020-06-22T00:00:00",
          "2020-06-23T00:00:00",
          "2020-06-24T00:00:00",
          "2020-06-25T00:00:00",
          "2020-06-26T00:00:00",
          "2020-06-29T00:00:00",
          "2020-06-30T00:00:00",
          "2020-07-01T00:00:00",
          "2020-07-02T00:00:00",
          "2020-07-06T00:00:00",
          "2020-07-07T00:00:00",
          "2020-07-08T00:00:00",
          "2020-07-09T00:00:00",
          "2020-07-10T00:00:00",
          "2020-07-13T00:00:00",
          "2020-07-14T00:00:00",
          "2020-07-15T00:00:00",
          "2020-07-16T00:00:00",
          "2020-07-17T00:00:00",
          "2020-07-20T00:00:00",
          "2020-07-21T00:00:00",
          "2020-07-22T00:00:00",
          "2020-07-23T00:00:00",
          "2020-07-24T00:00:00",
          "2020-07-27T00:00:00",
          "2020-07-28T00:00:00",
          "2020-07-29T00:00:00",
          "2020-07-30T00:00:00",
          "2020-07-31T00:00:00",
          "2020-08-03T00:00:00",
          "2020-08-04T00:00:00",
          "2020-08-05T00:00:00",
          "2020-08-06T00:00:00",
          "2020-08-07T00:00:00",
          "2020-08-10T00:00:00",
          "2020-08-11T00:00:00",
          "2020-08-12T00:00:00",
          "2020-08-13T00:00:00",
          "2020-08-14T00:00:00",
          "2020-08-17T00:00:00",
          "2020-08-18T00:00:00",
          "2020-08-19T00:00:00",
          "2020-08-20T00:00:00",
          "2020-08-21T00:00:00",
          "2020-08-24T00:00:00",
          "2020-08-25T00:00:00",
          "2020-08-26T00:00:00",
          "2020-08-27T00:00:00",
          "2020-08-28T00:00:00",
          "2020-08-31T00:00:00",
          "2020-09-01T00:00:00",
          "2020-09-02T00:00:00",
          "2020-09-03T00:00:00",
          "2020-09-04T00:00:00",
          "2020-09-08T00:00:00",
          "2020-09-09T00:00:00",
          "2020-09-10T00:00:00",
          "2020-09-11T00:00:00",
          "2020-09-14T00:00:00",
          "2020-09-15T00:00:00",
          "2020-09-16T00:00:00",
          "2020-09-17T00:00:00",
          "2020-09-18T00:00:00"
         ],
         "xaxis": "x",
         "y": [
          242.056915,
          236.280746,
          244.19516,
          246.12056,
          248.432953,
          249.593994,
          250.474442,
          250.571213,
          249.042496,
          251.896729,
          252.506241,
          254.421967,
          257.808319,
          254.325195,
          254.857376,
          254.992783,
          257.150452,
          255.195999,
          254.857376,
          258.891968,
          261.16568,
          261.291443,
          263.1297,
          264.232727,
          263.884399,
          261.368866,
          261.688141,
          261.833221,
          265.200256,
          266.06134,
          265.471161,
          268.364075,
          268.828491,
          269.370331,
          268.412506,
          270.076599,
          270.444305,
          270.250793,
          270.134644,
          269.6315,
          271.315063,
          270.328186,
          269.96048,
          268.325409,
          266.080688,
          265.548553,
          269.399353,
          270.415253,
          272.2052,
          272.031006,
          273.375031,
          274.366241,
          274.434265,
          273.608215,
          276.698578,
          271.373169,
          271.169067,
          273.190399,
          271.761841,
          272.791931,
          274.512024,
          277.767517,
          277.903564,
          278.340912,
          279.079468,
          280.430206,
          280.644043,
          279.20578,
          280.158173,
          280.080383,
          281.975403,
          281.79071,
          281.975403,
          281.2854,
          281.839355,
          282.082245,
          284.618652,
          283.987,
          283.812103,
          285.133728,
          285.580719,
          285.726501,
          283.578857,
          282.966614,
          285.736237,
          284.560364,
          279.808289,
          279.419556,
          278.574127,
          279.973511,
          272.937683,
          275.406097,
          277.019257,
          279.584808,
          277.777222,
          275.940582,
          278.428345,
          277.573151,
          274.18161,
          274.803558,
          272.247742,
          270.420776,
          271.159363,
          267.505402,
          266.825104,
          272.617035,
          274.978485,
          276.766571,
          279.536163,
          280.818939,
          280.750916,
          280.255341,
          281.411713,
          281.100769,
          281.207703,
          284.152222,
          284.793579,
          287.514587,
          287.096649,
          286.745148,
          283.932709,
          283.649567,
          284.655365,
          286.120148,
          288.717682,
          289.469604,
          291.783936,
          291.451935,
          289.850464,
          290.211761,
          291.598419,
          292.281952,
          293.590515,
          293.68811,
          292.740967,
          290.74881,
          291.813263,
          290.19223,
          290.90506,
          292.985077,
          294.361969,
          292.95578,
          294.918549,
          294.38147,
          293.658875,
          290.446136,
          287.916931,
          285.749084,
          277.155701,
          281.042236,
          281.208252,
          286.725586,
          284.772522,
          281.305939,
          285.680695,
          277.233795,
          277.966187,
          282.067596,
          285.465851,
          283.278473,
          285.583038,
          285.495148,
          278.161499,
          281.237549,
          280.134094,
          282.106659,
          285.709991,
          285.583038,
          283.913177,
          287.135742,
          290.826935,
          291.051575,
          291.198059,
          291.129669,
          293.19989,
          294.215515,
          294.020203,
          293.112,
          293.854187,
          294.029938,
          294.010406,
          292.621277,
          292.552582,
          290.257019,
          291.973816,
          291.36557,
          289.795929,
          291.139923,
          287.67688,
          282.595184,
          284.9104,
          288.765839,
          287.519897,
          283.056244,
          285.744263,
          287.67688,
          290.65918,
          290.33548,
          293.2099,
          292.738983,
          293.602295,
          292.317139,
          294.298798,
          293.337402,
          294.190918,
          294.671631,
          295.878296,
          297.546021,
          297.457733,
          298.370117,
          297.575439,
          300.332184,
          301.538818,
          301.205261,
          301.273926,
          302.333466,
          303.079071,
          302.500244,
          303.137878,
          303.235992,
          303.677429,
          305.875,
          306.100616,
          306.012299,
          304.874329,
          304.383789,
          305.060699,
          307.424988,
          308.121521,
          309.494995,
          308.347168,
          305.727844,
          303.677429,
          305.551208,
          306.100616,
          308.896515,
          307.925323,
          307.58194,
          308.455078,
          311.113647,
          311.300049,
          313.43869,
          313.507416,
          313.527008,
          314.812134,
          316.192352,
          316.675415,
          316.685272,
          318.371063,
          318.292175,
          316.537384,
          317.306335,
          320.273743,
          317.848572,
          319.061188,
          318.164032,
          319.859741,
          322.028564,
          321.101868,
          323.310181,
          322.817261,
          323.546783,
          326.238159,
          327.253632,
          326.612793,
          326.652222,
          327.026855,
          324.118561,
          318.923157,
          322.265198,
          321.998993,
          323.044006,
          317.178192,
          319.534393,
          324.404449,
          328.150696,
          329.254883,
          327.500061,
          329.944977,
          330.516754,
          332.64621,
          332.29129,
          332.823669,
          331.965973,
          333.553162,
          332.182892,
          328.761963,
          317.858429,
          308.226624,
          307.092926,
          293.300873,
          292.068542,
          304.71698,
          295.992218,
          308.433655,
          298.180817,
          293.251556,
          270.35022,
          284.339478,
          270.478394,
          244.599762,
          265.509674,
          236.456635,
          249.223404,
          236.604492,
          237.107269,
          226.889328,
          221.088181,
          241.119492,
          244.729095,
          259.018768,
          251.303726,
          259.464996,
          255.59758,
          244.094437,
          249.72702,
          246.117416,
          262.648193,
          262.915955,
          271.741608,
          275.876801,
          273.358002,
          281.420135,
          275.440491,
          276.769287,
          284.246307,
          279.238464,
          270.759888,
          276.769287,
          276.74942,
          280.606964,
          284.652893,
          283.343903,
          290.761444,
          288.05426,
          280.428467,
          281.201965,
          283.800079,
          281.876282,
          285.277618,
          289.997894,
          290.057373,
          284.276093,
          279.248413,
          282.590271,
          283.889343,
          292.536499,
          289.531799,
          294.450378,
          292.417511,
          292.972839,
          296.582397,
          300.99527,
          300.439941,
          301.778687,
          302.998383,
          305.507233,
          309.573029,
          308.759857,
          316.673218,
          320.501007,
          318.111145,
          316.33609,
          298.09964,
          301.669586,
          304.48587,
          310.346527,
          309.057373,
          309.176361,
          307.409454,
          309.381561,
          310.805847,
          302.877594,
          306.124603,
          298.853699,
          303.246094,
          307.130554,
          309.281952,
          310.985138,
          315.785919,
          312.528961,
          314.919373,
          313.126556,
          316.323761,
          313.584717,
          317.648468,
          320.566772,
          319.511017,
          320.437286,
          323.026947,
          323.714203,
          325.556793,
          321.672333,
          319.600647,
          321.931305,
          319.889496,
          323.82373,
          322.668365,
          325.21814,
          327.479126,
          328.744049,
          330.785858,
          332.997009,
          333.236084,
          334.232086,
          331.473114,
          336.094635,
          335.48703,
          335.497009,
          336.562744,
          337.289856,
          335.885468,
          336.931274,
          338.126495,
          341.552795,
          342.747986,
          346.184235,
          346.941193,
          349.18222,
          347.917297,
          351.194183,
          356.273865,
          344.012939,
          341.204163,
          331.88147,
          338.435272,
          332.558777,
          332.728088,
          337.110535,
          338.813751,
          337.469116,
          334.501007,
          330.649994
         ],
         "yaxis": "y"
        }
       ],
       "layout": {
        "template": {
         "data": {
          "bar": [
           {
            "error_x": {
             "color": "#2a3f5f"
            },
            "error_y": {
             "color": "#2a3f5f"
            },
            "marker": {
             "line": {
              "color": "#E5ECF6",
              "width": 0.5
             },
             "pattern": {
              "fillmode": "overlay",
              "size": 10,
              "solidity": 0.2
             }
            },
            "type": "bar"
           }
          ],
          "barpolar": [
           {
            "marker": {
             "line": {
              "color": "#E5ECF6",
              "width": 0.5
             },
             "pattern": {
              "fillmode": "overlay",
              "size": 10,
              "solidity": 0.2
             }
            },
            "type": "barpolar"
           }
          ],
          "carpet": [
           {
            "aaxis": {
             "endlinecolor": "#2a3f5f",
             "gridcolor": "white",
             "linecolor": "white",
             "minorgridcolor": "white",
             "startlinecolor": "#2a3f5f"
            },
            "baxis": {
             "endlinecolor": "#2a3f5f",
             "gridcolor": "white",
             "linecolor": "white",
             "minorgridcolor": "white",
             "startlinecolor": "#2a3f5f"
            },
            "type": "carpet"
           }
          ],
          "choropleth": [
           {
            "colorbar": {
             "outlinewidth": 0,
             "ticks": ""
            },
            "type": "choropleth"
           }
          ],
          "contour": [
           {
            "colorbar": {
             "outlinewidth": 0,
             "ticks": ""
            },
            "colorscale": [
             [
              0,
              "#0d0887"
             ],
             [
              0.1111111111111111,
              "#46039f"
             ],
             [
              0.2222222222222222,
              "#7201a8"
             ],
             [
              0.3333333333333333,
              "#9c179e"
             ],
             [
              0.4444444444444444,
              "#bd3786"
             ],
             [
              0.5555555555555556,
              "#d8576b"
             ],
             [
              0.6666666666666666,
              "#ed7953"
             ],
             [
              0.7777777777777778,
              "#fb9f3a"
             ],
             [
              0.8888888888888888,
              "#fdca26"
             ],
             [
              1,
              "#f0f921"
             ]
            ],
            "type": "contour"
           }
          ],
          "contourcarpet": [
           {
            "colorbar": {
             "outlinewidth": 0,
             "ticks": ""
            },
            "type": "contourcarpet"
           }
          ],
          "heatmap": [
           {
            "colorbar": {
             "outlinewidth": 0,
             "ticks": ""
            },
            "colorscale": [
             [
              0,
              "#0d0887"
             ],
             [
              0.1111111111111111,
              "#46039f"
             ],
             [
              0.2222222222222222,
              "#7201a8"
             ],
             [
              0.3333333333333333,
              "#9c179e"
             ],
             [
              0.4444444444444444,
              "#bd3786"
             ],
             [
              0.5555555555555556,
              "#d8576b"
             ],
             [
              0.6666666666666666,
              "#ed7953"
             ],
             [
              0.7777777777777778,
              "#fb9f3a"
             ],
             [
              0.8888888888888888,
              "#fdca26"
             ],
             [
              1,
              "#f0f921"
             ]
            ],
            "type": "heatmap"
           }
          ],
          "heatmapgl": [
           {
            "colorbar": {
             "outlinewidth": 0,
             "ticks": ""
            },
            "colorscale": [
             [
              0,
              "#0d0887"
             ],
             [
              0.1111111111111111,
              "#46039f"
             ],
             [
              0.2222222222222222,
              "#7201a8"
             ],
             [
              0.3333333333333333,
              "#9c179e"
             ],
             [
              0.4444444444444444,
              "#bd3786"
             ],
             [
              0.5555555555555556,
              "#d8576b"
             ],
             [
              0.6666666666666666,
              "#ed7953"
             ],
             [
              0.7777777777777778,
              "#fb9f3a"
             ],
             [
              0.8888888888888888,
              "#fdca26"
             ],
             [
              1,
              "#f0f921"
             ]
            ],
            "type": "heatmapgl"
           }
          ],
          "histogram": [
           {
            "marker": {
             "pattern": {
              "fillmode": "overlay",
              "size": 10,
              "solidity": 0.2
             }
            },
            "type": "histogram"
           }
          ],
          "histogram2d": [
           {
            "colorbar": {
             "outlinewidth": 0,
             "ticks": ""
            },
            "colorscale": [
             [
              0,
              "#0d0887"
             ],
             [
              0.1111111111111111,
              "#46039f"
             ],
             [
              0.2222222222222222,
              "#7201a8"
             ],
             [
              0.3333333333333333,
              "#9c179e"
             ],
             [
              0.4444444444444444,
              "#bd3786"
             ],
             [
              0.5555555555555556,
              "#d8576b"
             ],
             [
              0.6666666666666666,
              "#ed7953"
             ],
             [
              0.7777777777777778,
              "#fb9f3a"
             ],
             [
              0.8888888888888888,
              "#fdca26"
             ],
             [
              1,
              "#f0f921"
             ]
            ],
            "type": "histogram2d"
           }
          ],
          "histogram2dcontour": [
           {
            "colorbar": {
             "outlinewidth": 0,
             "ticks": ""
            },
            "colorscale": [
             [
              0,
              "#0d0887"
             ],
             [
              0.1111111111111111,
              "#46039f"
             ],
             [
              0.2222222222222222,
              "#7201a8"
             ],
             [
              0.3333333333333333,
              "#9c179e"
             ],
             [
              0.4444444444444444,
              "#bd3786"
             ],
             [
              0.5555555555555556,
              "#d8576b"
             ],
             [
              0.6666666666666666,
              "#ed7953"
             ],
             [
              0.7777777777777778,
              "#fb9f3a"
             ],
             [
              0.8888888888888888,
              "#fdca26"
             ],
             [
              1,
              "#f0f921"
             ]
            ],
            "type": "histogram2dcontour"
           }
          ],
          "mesh3d": [
           {
            "colorbar": {
             "outlinewidth": 0,
             "ticks": ""
            },
            "type": "mesh3d"
           }
          ],
          "parcoords": [
           {
            "line": {
             "colorbar": {
              "outlinewidth": 0,
              "ticks": ""
             }
            },
            "type": "parcoords"
           }
          ],
          "pie": [
           {
            "automargin": true,
            "type": "pie"
           }
          ],
          "scatter": [
           {
            "marker": {
             "colorbar": {
              "outlinewidth": 0,
              "ticks": ""
             }
            },
            "type": "scatter"
           }
          ],
          "scatter3d": [
           {
            "line": {
             "colorbar": {
              "outlinewidth": 0,
              "ticks": ""
             }
            },
            "marker": {
             "colorbar": {
              "outlinewidth": 0,
              "ticks": ""
             }
            },
            "type": "scatter3d"
           }
          ],
          "scattercarpet": [
           {
            "marker": {
             "colorbar": {
              "outlinewidth": 0,
              "ticks": ""
             }
            },
            "type": "scattercarpet"
           }
          ],
          "scattergeo": [
           {
            "marker": {
             "colorbar": {
              "outlinewidth": 0,
              "ticks": ""
             }
            },
            "type": "scattergeo"
           }
          ],
          "scattergl": [
           {
            "marker": {
             "colorbar": {
              "outlinewidth": 0,
              "ticks": ""
             }
            },
            "type": "scattergl"
           }
          ],
          "scattermapbox": [
           {
            "marker": {
             "colorbar": {
              "outlinewidth": 0,
              "ticks": ""
             }
            },
            "type": "scattermapbox"
           }
          ],
          "scatterpolar": [
           {
            "marker": {
             "colorbar": {
              "outlinewidth": 0,
              "ticks": ""
             }
            },
            "type": "scatterpolar"
           }
          ],
          "scatterpolargl": [
           {
            "marker": {
             "colorbar": {
              "outlinewidth": 0,
              "ticks": ""
             }
            },
            "type": "scatterpolargl"
           }
          ],
          "scatterternary": [
           {
            "marker": {
             "colorbar": {
              "outlinewidth": 0,
              "ticks": ""
             }
            },
            "type": "scatterternary"
           }
          ],
          "surface": [
           {
            "colorbar": {
             "outlinewidth": 0,
             "ticks": ""
            },
            "colorscale": [
             [
              0,
              "#0d0887"
             ],
             [
              0.1111111111111111,
              "#46039f"
             ],
             [
              0.2222222222222222,
              "#7201a8"
             ],
             [
              0.3333333333333333,
              "#9c179e"
             ],
             [
              0.4444444444444444,
              "#bd3786"
             ],
             [
              0.5555555555555556,
              "#d8576b"
             ],
             [
              0.6666666666666666,
              "#ed7953"
             ],
             [
              0.7777777777777778,
              "#fb9f3a"
             ],
             [
              0.8888888888888888,
              "#fdca26"
             ],
             [
              1,
              "#f0f921"
             ]
            ],
            "type": "surface"
           }
          ],
          "table": [
           {
            "cells": {
             "fill": {
              "color": "#EBF0F8"
             },
             "line": {
              "color": "white"
             }
            },
            "header": {
             "fill": {
              "color": "#C8D4E3"
             },
             "line": {
              "color": "white"
             }
            },
            "type": "table"
           }
          ]
         },
         "layout": {
          "annotationdefaults": {
           "arrowcolor": "#2a3f5f",
           "arrowhead": 0,
           "arrowwidth": 1
          },
          "autotypenumbers": "strict",
          "coloraxis": {
           "colorbar": {
            "outlinewidth": 0,
            "ticks": ""
           }
          },
          "colorscale": {
           "diverging": [
            [
             0,
             "#8e0152"
            ],
            [
             0.1,
             "#c51b7d"
            ],
            [
             0.2,
             "#de77ae"
            ],
            [
             0.3,
             "#f1b6da"
            ],
            [
             0.4,
             "#fde0ef"
            ],
            [
             0.5,
             "#f7f7f7"
            ],
            [
             0.6,
             "#e6f5d0"
            ],
            [
             0.7,
             "#b8e186"
            ],
            [
             0.8,
             "#7fbc41"
            ],
            [
             0.9,
             "#4d9221"
            ],
            [
             1,
             "#276419"
            ]
           ],
           "sequential": [
            [
             0,
             "#0d0887"
            ],
            [
             0.1111111111111111,
             "#46039f"
            ],
            [
             0.2222222222222222,
             "#7201a8"
            ],
            [
             0.3333333333333333,
             "#9c179e"
            ],
            [
             0.4444444444444444,
             "#bd3786"
            ],
            [
             0.5555555555555556,
             "#d8576b"
            ],
            [
             0.6666666666666666,
             "#ed7953"
            ],
            [
             0.7777777777777778,
             "#fb9f3a"
            ],
            [
             0.8888888888888888,
             "#fdca26"
            ],
            [
             1,
             "#f0f921"
            ]
           ],
           "sequentialminus": [
            [
             0,
             "#0d0887"
            ],
            [
             0.1111111111111111,
             "#46039f"
            ],
            [
             0.2222222222222222,
             "#7201a8"
            ],
            [
             0.3333333333333333,
             "#9c179e"
            ],
            [
             0.4444444444444444,
             "#bd3786"
            ],
            [
             0.5555555555555556,
             "#d8576b"
            ],
            [
             0.6666666666666666,
             "#ed7953"
            ],
            [
             0.7777777777777778,
             "#fb9f3a"
            ],
            [
             0.8888888888888888,
             "#fdca26"
            ],
            [
             1,
             "#f0f921"
            ]
           ]
          },
          "colorway": [
           "#636efa",
           "#EF553B",
           "#00cc96",
           "#ab63fa",
           "#FFA15A",
           "#19d3f3",
           "#FF6692",
           "#B6E880",
           "#FF97FF",
           "#FECB52"
          ],
          "font": {
           "color": "#2a3f5f"
          },
          "geo": {
           "bgcolor": "white",
           "lakecolor": "white",
           "landcolor": "#E5ECF6",
           "showlakes": true,
           "showland": true,
           "subunitcolor": "white"
          },
          "hoverlabel": {
           "align": "left"
          },
          "hovermode": "closest",
          "mapbox": {
           "style": "light"
          },
          "paper_bgcolor": "white",
          "plot_bgcolor": "#E5ECF6",
          "polar": {
           "angularaxis": {
            "gridcolor": "white",
            "linecolor": "white",
            "ticks": ""
           },
           "bgcolor": "#E5ECF6",
           "radialaxis": {
            "gridcolor": "white",
            "linecolor": "white",
            "ticks": ""
           }
          },
          "scene": {
           "xaxis": {
            "backgroundcolor": "#E5ECF6",
            "gridcolor": "white",
            "gridwidth": 2,
            "linecolor": "white",
            "showbackground": true,
            "ticks": "",
            "zerolinecolor": "white"
           },
           "yaxis": {
            "backgroundcolor": "#E5ECF6",
            "gridcolor": "white",
            "gridwidth": 2,
            "linecolor": "white",
            "showbackground": true,
            "ticks": "",
            "zerolinecolor": "white"
           },
           "zaxis": {
            "backgroundcolor": "#E5ECF6",
            "gridcolor": "white",
            "gridwidth": 2,
            "linecolor": "white",
            "showbackground": true,
            "ticks": "",
            "zerolinecolor": "white"
           }
          },
          "shapedefaults": {
           "line": {
            "color": "#2a3f5f"
           }
          },
          "ternary": {
           "aaxis": {
            "gridcolor": "white",
            "linecolor": "white",
            "ticks": ""
           },
           "baxis": {
            "gridcolor": "white",
            "linecolor": "white",
            "ticks": ""
           },
           "bgcolor": "#E5ECF6",
           "caxis": {
            "gridcolor": "white",
            "linecolor": "white",
            "ticks": ""
           }
          },
          "title": {
           "x": 0.05
          },
          "xaxis": {
           "automargin": true,
           "gridcolor": "white",
           "linecolor": "white",
           "ticks": "",
           "title": {
            "standoff": 15
           },
           "zerolinecolor": "white",
           "zerolinewidth": 2
          },
          "yaxis": {
           "automargin": true,
           "gridcolor": "white",
           "linecolor": "white",
           "ticks": "",
           "title": {
            "standoff": 15
           },
           "zerolinecolor": "white",
           "zerolinewidth": 2
          }
         }
        },
        "xaxis": {
         "anchor": "y",
         "domain": [
          0,
          0.94
         ]
        },
        "yaxis": {
         "anchor": "x",
         "domain": [
          0,
          1
         ]
        },
        "yaxis2": {
         "anchor": "x",
         "overlaying": "y",
         "side": "right"
        }
       }
      }
     },
     "metadata": {},
     "output_type": "display_data"
    },
    {
     "data": {
      "application/vnd.plotly.v1+json": {
       "config": {
        "plotlyServerURL": "https://plot.ly"
       },
       "data": [
        {
         "type": "scatter",
         "x": [
          "2019-01-02T00:00:00",
          "2019-01-03T00:00:00",
          "2019-01-04T00:00:00",
          "2019-01-07T00:00:00",
          "2019-01-08T00:00:00",
          "2019-01-09T00:00:00",
          "2019-01-10T00:00:00",
          "2019-01-11T00:00:00",
          "2019-01-14T00:00:00",
          "2019-01-15T00:00:00",
          "2019-01-16T00:00:00",
          "2019-01-17T00:00:00",
          "2019-01-18T00:00:00",
          "2019-01-22T00:00:00",
          "2019-01-23T00:00:00",
          "2019-01-24T00:00:00",
          "2019-01-25T00:00:00",
          "2019-01-28T00:00:00",
          "2019-01-29T00:00:00",
          "2019-01-30T00:00:00",
          "2019-01-31T00:00:00",
          "2019-02-01T00:00:00",
          "2019-02-04T00:00:00",
          "2019-02-05T00:00:00",
          "2019-02-06T00:00:00",
          "2019-02-07T00:00:00",
          "2019-02-08T00:00:00",
          "2019-02-11T00:00:00",
          "2019-02-12T00:00:00",
          "2019-02-13T00:00:00",
          "2019-02-14T00:00:00",
          "2019-02-15T00:00:00",
          "2019-02-19T00:00:00",
          "2019-02-20T00:00:00",
          "2019-02-21T00:00:00",
          "2019-02-22T00:00:00",
          "2019-02-25T00:00:00",
          "2019-02-26T00:00:00",
          "2019-02-27T00:00:00",
          "2019-02-28T00:00:00",
          "2019-03-01T00:00:00",
          "2019-03-04T00:00:00",
          "2019-03-05T00:00:00",
          "2019-03-06T00:00:00",
          "2019-03-07T00:00:00",
          "2019-03-08T00:00:00",
          "2019-03-11T00:00:00",
          "2019-03-12T00:00:00",
          "2019-03-13T00:00:00",
          "2019-03-14T00:00:00",
          "2019-03-15T00:00:00",
          "2019-03-18T00:00:00",
          "2019-03-19T00:00:00",
          "2019-03-20T00:00:00",
          "2019-03-21T00:00:00",
          "2019-03-22T00:00:00",
          "2019-03-25T00:00:00",
          "2019-03-26T00:00:00",
          "2019-03-27T00:00:00",
          "2019-03-28T00:00:00",
          "2019-03-29T00:00:00",
          "2019-04-01T00:00:00",
          "2019-04-02T00:00:00",
          "2019-04-03T00:00:00",
          "2019-04-04T00:00:00",
          "2019-04-05T00:00:00",
          "2019-04-08T00:00:00",
          "2019-04-09T00:00:00",
          "2019-04-10T00:00:00",
          "2019-04-11T00:00:00",
          "2019-04-12T00:00:00",
          "2019-04-15T00:00:00",
          "2019-04-16T00:00:00",
          "2019-04-17T00:00:00",
          "2019-04-18T00:00:00",
          "2019-04-22T00:00:00",
          "2019-04-23T00:00:00",
          "2019-04-24T00:00:00",
          "2019-04-25T00:00:00",
          "2019-04-26T00:00:00",
          "2019-04-29T00:00:00",
          "2019-04-30T00:00:00",
          "2019-05-01T00:00:00",
          "2019-05-02T00:00:00",
          "2019-05-03T00:00:00",
          "2019-05-06T00:00:00",
          "2019-05-07T00:00:00",
          "2019-05-08T00:00:00",
          "2019-05-09T00:00:00",
          "2019-05-10T00:00:00",
          "2019-05-13T00:00:00",
          "2019-05-14T00:00:00",
          "2019-05-15T00:00:00",
          "2019-05-16T00:00:00",
          "2019-05-17T00:00:00",
          "2019-05-20T00:00:00",
          "2019-05-21T00:00:00",
          "2019-05-22T00:00:00",
          "2019-05-23T00:00:00",
          "2019-05-24T00:00:00",
          "2019-05-28T00:00:00",
          "2019-05-29T00:00:00",
          "2019-05-30T00:00:00",
          "2019-05-31T00:00:00",
          "2019-06-03T00:00:00",
          "2019-06-04T00:00:00",
          "2019-06-05T00:00:00",
          "2019-06-06T00:00:00",
          "2019-06-07T00:00:00",
          "2019-06-10T00:00:00",
          "2019-06-11T00:00:00",
          "2019-06-12T00:00:00",
          "2019-06-13T00:00:00",
          "2019-06-14T00:00:00",
          "2019-06-17T00:00:00",
          "2019-06-18T00:00:00",
          "2019-06-19T00:00:00",
          "2019-06-20T00:00:00",
          "2019-06-21T00:00:00",
          "2019-06-24T00:00:00",
          "2019-06-25T00:00:00",
          "2019-06-26T00:00:00",
          "2019-06-27T00:00:00",
          "2019-06-28T00:00:00",
          "2019-07-01T00:00:00",
          "2019-07-02T00:00:00",
          "2019-07-03T00:00:00",
          "2019-07-05T00:00:00",
          "2019-07-08T00:00:00",
          "2019-07-09T00:00:00",
          "2019-07-10T00:00:00",
          "2019-07-11T00:00:00",
          "2019-07-12T00:00:00",
          "2019-07-15T00:00:00",
          "2019-07-16T00:00:00",
          "2019-07-17T00:00:00",
          "2019-07-18T00:00:00",
          "2019-07-19T00:00:00",
          "2019-07-22T00:00:00",
          "2019-07-23T00:00:00",
          "2019-07-24T00:00:00",
          "2019-07-25T00:00:00",
          "2019-07-26T00:00:00",
          "2019-07-29T00:00:00",
          "2019-07-30T00:00:00",
          "2019-07-31T00:00:00",
          "2019-08-01T00:00:00",
          "2019-08-02T00:00:00",
          "2019-08-05T00:00:00",
          "2019-08-06T00:00:00",
          "2019-08-07T00:00:00",
          "2019-08-08T00:00:00",
          "2019-08-09T00:00:00",
          "2019-08-12T00:00:00",
          "2019-08-13T00:00:00",
          "2019-08-14T00:00:00",
          "2019-08-15T00:00:00",
          "2019-08-16T00:00:00",
          "2019-08-19T00:00:00",
          "2019-08-20T00:00:00",
          "2019-08-21T00:00:00",
          "2019-08-22T00:00:00",
          "2019-08-23T00:00:00",
          "2019-08-26T00:00:00",
          "2019-08-27T00:00:00",
          "2019-08-28T00:00:00",
          "2019-08-29T00:00:00",
          "2019-08-30T00:00:00",
          "2019-09-03T00:00:00",
          "2019-09-04T00:00:00",
          "2019-09-05T00:00:00",
          "2019-09-06T00:00:00",
          "2019-09-09T00:00:00",
          "2019-09-10T00:00:00",
          "2019-09-11T00:00:00",
          "2019-09-12T00:00:00",
          "2019-09-13T00:00:00",
          "2019-09-16T00:00:00",
          "2019-09-17T00:00:00",
          "2019-09-18T00:00:00",
          "2019-09-19T00:00:00",
          "2019-09-20T00:00:00",
          "2019-09-23T00:00:00",
          "2019-09-24T00:00:00",
          "2019-09-25T00:00:00",
          "2019-09-26T00:00:00",
          "2019-09-27T00:00:00",
          "2019-09-30T00:00:00",
          "2019-10-01T00:00:00",
          "2019-10-02T00:00:00",
          "2019-10-03T00:00:00",
          "2019-10-04T00:00:00",
          "2019-10-07T00:00:00",
          "2019-10-08T00:00:00",
          "2019-10-09T00:00:00",
          "2019-10-10T00:00:00",
          "2019-10-11T00:00:00",
          "2019-10-14T00:00:00",
          "2019-10-15T00:00:00",
          "2019-10-16T00:00:00",
          "2019-10-17T00:00:00",
          "2019-10-18T00:00:00",
          "2019-10-21T00:00:00",
          "2019-10-22T00:00:00",
          "2019-10-23T00:00:00",
          "2019-10-24T00:00:00",
          "2019-10-25T00:00:00",
          "2019-10-28T00:00:00",
          "2019-10-29T00:00:00",
          "2019-10-30T00:00:00",
          "2019-10-31T00:00:00",
          "2019-11-01T00:00:00",
          "2019-11-04T00:00:00",
          "2019-11-05T00:00:00",
          "2019-11-06T00:00:00",
          "2019-11-07T00:00:00",
          "2019-11-08T00:00:00",
          "2019-11-11T00:00:00",
          "2019-11-12T00:00:00",
          "2019-11-13T00:00:00",
          "2019-11-14T00:00:00",
          "2019-11-15T00:00:00",
          "2019-11-18T00:00:00",
          "2019-11-19T00:00:00",
          "2019-11-20T00:00:00",
          "2019-11-21T00:00:00",
          "2019-11-22T00:00:00",
          "2019-11-25T00:00:00",
          "2019-11-26T00:00:00",
          "2019-11-27T00:00:00",
          "2019-11-29T00:00:00",
          "2019-12-02T00:00:00",
          "2019-12-03T00:00:00",
          "2019-12-04T00:00:00",
          "2019-12-05T00:00:00",
          "2019-12-06T00:00:00",
          "2019-12-09T00:00:00",
          "2019-12-10T00:00:00",
          "2019-12-11T00:00:00",
          "2019-12-12T00:00:00",
          "2019-12-13T00:00:00",
          "2019-12-16T00:00:00",
          "2019-12-17T00:00:00",
          "2019-12-18T00:00:00",
          "2019-12-19T00:00:00",
          "2019-12-20T00:00:00",
          "2019-12-23T00:00:00",
          "2019-12-24T00:00:00",
          "2019-12-26T00:00:00",
          "2019-12-27T00:00:00",
          "2019-12-30T00:00:00",
          "2019-12-31T00:00:00",
          "2020-01-02T00:00:00",
          "2020-01-03T00:00:00",
          "2020-01-06T00:00:00",
          "2020-01-07T00:00:00",
          "2020-01-08T00:00:00",
          "2020-01-09T00:00:00",
          "2020-01-10T00:00:00",
          "2020-01-13T00:00:00",
          "2020-01-14T00:00:00",
          "2020-01-15T00:00:00",
          "2020-01-16T00:00:00",
          "2020-01-17T00:00:00",
          "2020-01-21T00:00:00",
          "2020-01-22T00:00:00",
          "2020-01-23T00:00:00",
          "2020-01-24T00:00:00",
          "2020-01-27T00:00:00",
          "2020-01-28T00:00:00",
          "2020-01-29T00:00:00",
          "2020-01-30T00:00:00",
          "2020-01-31T00:00:00",
          "2020-02-03T00:00:00",
          "2020-02-04T00:00:00",
          "2020-02-05T00:00:00",
          "2020-02-06T00:00:00",
          "2020-02-07T00:00:00",
          "2020-02-10T00:00:00",
          "2020-02-11T00:00:00",
          "2020-02-12T00:00:00",
          "2020-02-13T00:00:00",
          "2020-02-14T00:00:00",
          "2020-02-18T00:00:00",
          "2020-02-19T00:00:00",
          "2020-02-20T00:00:00",
          "2020-02-21T00:00:00",
          "2020-02-24T00:00:00",
          "2020-02-25T00:00:00",
          "2020-02-26T00:00:00",
          "2020-02-27T00:00:00",
          "2020-02-28T00:00:00",
          "2020-03-02T00:00:00",
          "2020-03-03T00:00:00",
          "2020-03-04T00:00:00",
          "2020-03-05T00:00:00",
          "2020-03-06T00:00:00",
          "2020-03-09T00:00:00",
          "2020-03-10T00:00:00",
          "2020-03-11T00:00:00",
          "2020-03-12T00:00:00",
          "2020-03-13T00:00:00",
          "2020-03-16T00:00:00",
          "2020-03-17T00:00:00",
          "2020-03-18T00:00:00",
          "2020-03-19T00:00:00",
          "2020-03-20T00:00:00",
          "2020-03-23T00:00:00",
          "2020-03-24T00:00:00",
          "2020-03-25T00:00:00",
          "2020-03-26T00:00:00",
          "2020-03-27T00:00:00",
          "2020-03-30T00:00:00",
          "2020-03-31T00:00:00",
          "2020-04-01T00:00:00",
          "2020-04-02T00:00:00",
          "2020-04-03T00:00:00",
          "2020-04-06T00:00:00",
          "2020-04-07T00:00:00",
          "2020-04-08T00:00:00",
          "2020-04-09T00:00:00",
          "2020-04-13T00:00:00",
          "2020-04-14T00:00:00",
          "2020-04-15T00:00:00",
          "2020-04-16T00:00:00",
          "2020-04-17T00:00:00",
          "2020-04-20T00:00:00",
          "2020-04-21T00:00:00",
          "2020-04-22T00:00:00",
          "2020-04-23T00:00:00",
          "2020-04-24T00:00:00",
          "2020-04-27T00:00:00",
          "2020-04-28T00:00:00",
          "2020-04-29T00:00:00",
          "2020-04-30T00:00:00",
          "2020-05-01T00:00:00",
          "2020-05-04T00:00:00",
          "2020-05-05T00:00:00",
          "2020-05-06T00:00:00",
          "2020-05-07T00:00:00",
          "2020-05-08T00:00:00",
          "2020-05-11T00:00:00",
          "2020-05-12T00:00:00",
          "2020-05-13T00:00:00",
          "2020-05-14T00:00:00",
          "2020-05-15T00:00:00",
          "2020-05-18T00:00:00",
          "2020-05-19T00:00:00",
          "2020-05-20T00:00:00",
          "2020-05-21T00:00:00",
          "2020-05-22T00:00:00",
          "2020-05-26T00:00:00",
          "2020-05-27T00:00:00",
          "2020-05-28T00:00:00",
          "2020-05-29T00:00:00",
          "2020-06-01T00:00:00",
          "2020-06-02T00:00:00",
          "2020-06-03T00:00:00",
          "2020-06-04T00:00:00",
          "2020-06-05T00:00:00",
          "2020-06-08T00:00:00",
          "2020-06-09T00:00:00",
          "2020-06-10T00:00:00",
          "2020-06-11T00:00:00",
          "2020-06-12T00:00:00",
          "2020-06-15T00:00:00",
          "2020-06-16T00:00:00",
          "2020-06-17T00:00:00",
          "2020-06-18T00:00:00",
          "2020-06-19T00:00:00",
          "2020-06-22T00:00:00",
          "2020-06-23T00:00:00",
          "2020-06-24T00:00:00",
          "2020-06-25T00:00:00",
          "2020-06-26T00:00:00",
          "2020-06-29T00:00:00",
          "2020-06-30T00:00:00",
          "2020-07-01T00:00:00",
          "2020-07-02T00:00:00",
          "2020-07-06T00:00:00",
          "2020-07-07T00:00:00",
          "2020-07-08T00:00:00",
          "2020-07-09T00:00:00",
          "2020-07-10T00:00:00",
          "2020-07-13T00:00:00",
          "2020-07-14T00:00:00",
          "2020-07-15T00:00:00",
          "2020-07-16T00:00:00",
          "2020-07-17T00:00:00",
          "2020-07-20T00:00:00",
          "2020-07-21T00:00:00",
          "2020-07-22T00:00:00",
          "2020-07-23T00:00:00",
          "2020-07-24T00:00:00",
          "2020-07-27T00:00:00",
          "2020-07-28T00:00:00",
          "2020-07-29T00:00:00",
          "2020-07-30T00:00:00",
          "2020-07-31T00:00:00",
          "2020-08-03T00:00:00",
          "2020-08-04T00:00:00",
          "2020-08-05T00:00:00",
          "2020-08-06T00:00:00",
          "2020-08-07T00:00:00",
          "2020-08-10T00:00:00",
          "2020-08-11T00:00:00",
          "2020-08-12T00:00:00",
          "2020-08-13T00:00:00",
          "2020-08-14T00:00:00",
          "2020-08-17T00:00:00",
          "2020-08-18T00:00:00",
          "2020-08-19T00:00:00",
          "2020-08-20T00:00:00",
          "2020-08-21T00:00:00",
          "2020-08-24T00:00:00",
          "2020-08-25T00:00:00",
          "2020-08-26T00:00:00",
          "2020-08-27T00:00:00",
          "2020-08-28T00:00:00",
          "2020-08-31T00:00:00",
          "2020-09-01T00:00:00",
          "2020-09-02T00:00:00",
          "2020-09-03T00:00:00",
          "2020-09-04T00:00:00",
          "2020-09-08T00:00:00",
          "2020-09-09T00:00:00",
          "2020-09-10T00:00:00",
          "2020-09-11T00:00:00",
          "2020-09-14T00:00:00",
          "2020-09-15T00:00:00",
          "2020-09-16T00:00:00",
          "2020-09-17T00:00:00",
          "2020-09-18T00:00:00"
         ],
         "xaxis": "x",
         "y": [
          242.056915,
          236.280746,
          244.19516,
          246.12056,
          248.432953,
          249.593994,
          250.474442,
          250.571213,
          249.042496,
          251.896729,
          252.506241,
          254.421967,
          257.808319,
          254.325195,
          254.857376,
          254.992783,
          257.150452,
          255.195999,
          254.857376,
          258.891968,
          261.16568,
          261.291443,
          263.1297,
          264.232727,
          263.884399,
          261.368866,
          261.688141,
          261.833221,
          265.200256,
          266.06134,
          265.471161,
          268.364075,
          268.828491,
          269.370331,
          268.412506,
          270.076599,
          270.444305,
          270.250793,
          270.134644,
          269.6315,
          271.315063,
          270.328186,
          269.96048,
          268.325409,
          266.080688,
          265.548553,
          269.399353,
          270.415253,
          272.2052,
          272.031006,
          273.375031,
          274.366241,
          274.434265,
          273.608215,
          276.698578,
          271.373169,
          271.169067,
          273.190399,
          271.761841,
          272.791931,
          274.512024,
          277.767517,
          277.903564,
          278.340912,
          279.079468,
          280.430206,
          280.644043,
          279.20578,
          280.158173,
          280.080383,
          281.975403,
          281.79071,
          281.975403,
          281.2854,
          281.839355,
          282.082245,
          284.618652,
          283.987,
          283.812103,
          285.133728,
          285.580719,
          285.726501,
          283.578857,
          282.966614,
          285.736237,
          284.560364,
          279.808289,
          279.419556,
          278.574127,
          279.973511,
          272.937683,
          275.406097,
          277.019257,
          279.584808,
          277.777222,
          275.940582,
          278.428345,
          277.573151,
          274.18161,
          274.803558,
          272.247742,
          270.420776,
          271.159363,
          267.505402,
          266.825104,
          272.617035,
          274.978485,
          276.766571,
          279.536163,
          280.818939,
          280.750916,
          280.255341,
          281.411713,
          281.100769,
          281.207703,
          284.152222,
          284.793579,
          287.514587,
          287.096649,
          286.745148,
          283.932709,
          283.649567,
          284.655365,
          286.120148,
          288.717682,
          289.469604,
          291.783936,
          291.451935,
          289.850464,
          290.211761,
          291.598419,
          292.281952,
          293.590515,
          293.68811,
          292.740967,
          290.74881,
          291.813263,
          290.19223,
          290.90506,
          292.985077,
          294.361969,
          292.95578,
          294.918549,
          294.38147,
          293.658875,
          290.446136,
          287.916931,
          285.749084,
          277.155701,
          281.042236,
          281.208252,
          286.725586,
          284.772522,
          281.305939,
          285.680695,
          277.233795,
          277.966187,
          282.067596,
          285.465851,
          283.278473,
          285.583038,
          285.495148,
          278.161499,
          281.237549,
          280.134094,
          282.106659,
          285.709991,
          285.583038,
          283.913177,
          287.135742,
          290.826935,
          291.051575,
          291.198059,
          291.129669,
          293.19989,
          294.215515,
          294.020203,
          293.112,
          293.854187,
          294.029938,
          294.010406,
          292.621277,
          292.552582,
          290.257019,
          291.973816,
          291.36557,
          289.795929,
          291.139923,
          287.67688,
          282.595184,
          284.9104,
          288.765839,
          287.519897,
          283.056244,
          285.744263,
          287.67688,
          290.65918,
          290.33548,
          293.2099,
          292.738983,
          293.602295,
          292.317139,
          294.298798,
          293.337402,
          294.190918,
          294.671631,
          295.878296,
          297.546021,
          297.457733,
          298.370117,
          297.575439,
          300.332184,
          301.538818,
          301.205261,
          301.273926,
          302.333466,
          303.079071,
          302.500244,
          303.137878,
          303.235992,
          303.677429,
          305.875,
          306.100616,
          306.012299,
          304.874329,
          304.383789,
          305.060699,
          307.424988,
          308.121521,
          309.494995,
          308.347168,
          305.727844,
          303.677429,
          305.551208,
          306.100616,
          308.896515,
          307.925323,
          307.58194,
          308.455078,
          311.113647,
          311.300049,
          313.43869,
          313.507416,
          313.527008,
          314.812134,
          316.192352,
          316.675415,
          316.685272,
          318.371063,
          318.292175,
          316.537384,
          317.306335,
          320.273743,
          317.848572,
          319.061188,
          318.164032,
          319.859741,
          322.028564,
          321.101868,
          323.310181,
          322.817261,
          323.546783,
          326.238159,
          327.253632,
          326.612793,
          326.652222,
          327.026855,
          324.118561,
          318.923157,
          322.265198,
          321.998993,
          323.044006,
          317.178192,
          319.534393,
          324.404449,
          328.150696,
          329.254883,
          327.500061,
          329.944977,
          330.516754,
          332.64621,
          332.29129,
          332.823669,
          331.965973,
          333.553162,
          332.182892,
          328.761963,
          317.858429,
          308.226624,
          307.092926,
          293.300873,
          292.068542,
          304.71698,
          295.992218,
          308.433655,
          298.180817,
          293.251556,
          270.35022,
          284.339478,
          270.478394,
          244.599762,
          265.509674,
          236.456635,
          249.223404,
          236.604492,
          237.107269,
          226.889328,
          221.088181,
          241.119492,
          244.729095,
          259.018768,
          251.303726,
          259.464996,
          255.59758,
          244.094437,
          249.72702,
          246.117416,
          262.648193,
          262.915955,
          271.741608,
          275.876801,
          273.358002,
          281.420135,
          275.440491,
          276.769287,
          284.246307,
          279.238464,
          270.759888,
          276.769287,
          276.74942,
          280.606964,
          284.652893,
          283.343903,
          290.761444,
          288.05426,
          280.428467,
          281.201965,
          283.800079,
          281.876282,
          285.277618,
          289.997894,
          290.057373,
          284.276093,
          279.248413,
          282.590271,
          283.889343,
          292.536499,
          289.531799,
          294.450378,
          292.417511,
          292.972839,
          296.582397,
          300.99527,
          300.439941,
          301.778687,
          302.998383,
          305.507233,
          309.573029,
          308.759857,
          316.673218,
          320.501007,
          318.111145,
          316.33609,
          298.09964,
          301.669586,
          304.48587,
          310.346527,
          309.057373,
          309.176361,
          307.409454,
          309.381561,
          310.805847,
          302.877594,
          306.124603,
          298.853699,
          303.246094,
          307.130554,
          309.281952,
          310.985138,
          315.785919,
          312.528961,
          314.919373,
          313.126556,
          316.323761,
          313.584717,
          317.648468,
          320.566772,
          319.511017,
          320.437286,
          323.026947,
          323.714203,
          325.556793,
          321.672333,
          319.600647,
          321.931305,
          319.889496,
          323.82373,
          322.668365,
          325.21814,
          327.479126,
          328.744049,
          330.785858,
          332.997009,
          333.236084,
          334.232086,
          331.473114,
          336.094635,
          335.48703,
          335.497009,
          336.562744,
          337.289856,
          335.885468,
          336.931274,
          338.126495,
          341.552795,
          342.747986,
          346.184235,
          346.941193,
          349.18222,
          347.917297,
          351.194183,
          356.273865,
          344.012939,
          341.204163,
          331.88147,
          338.435272,
          332.558777,
          332.728088,
          337.110535,
          338.813751,
          337.469116,
          334.501007,
          330.649994
         ],
         "yaxis": "y"
        },
        {
         "type": "scatter",
         "x": [
          "2019-01-02T00:00:00",
          "2019-01-03T00:00:00",
          "2019-01-04T00:00:00",
          "2019-01-07T00:00:00",
          "2019-01-08T00:00:00",
          "2019-01-09T00:00:00",
          "2019-01-10T00:00:00",
          "2019-01-11T00:00:00",
          "2019-01-14T00:00:00",
          "2019-01-15T00:00:00",
          "2019-01-16T00:00:00",
          "2019-01-17T00:00:00",
          "2019-01-18T00:00:00",
          "2019-01-22T00:00:00",
          "2019-01-23T00:00:00",
          "2019-01-24T00:00:00",
          "2019-01-25T00:00:00",
          "2019-01-28T00:00:00",
          "2019-01-29T00:00:00",
          "2019-01-30T00:00:00",
          "2019-01-31T00:00:00",
          "2019-02-01T00:00:00",
          "2019-02-04T00:00:00",
          "2019-02-05T00:00:00",
          "2019-02-06T00:00:00",
          "2019-02-07T00:00:00",
          "2019-02-08T00:00:00",
          "2019-02-11T00:00:00",
          "2019-02-12T00:00:00",
          "2019-02-13T00:00:00",
          "2019-02-14T00:00:00",
          "2019-02-15T00:00:00",
          "2019-02-19T00:00:00",
          "2019-02-20T00:00:00",
          "2019-02-21T00:00:00",
          "2019-02-22T00:00:00",
          "2019-02-25T00:00:00",
          "2019-02-26T00:00:00",
          "2019-02-27T00:00:00",
          "2019-02-28T00:00:00",
          "2019-03-01T00:00:00",
          "2019-03-04T00:00:00",
          "2019-03-05T00:00:00",
          "2019-03-06T00:00:00",
          "2019-03-07T00:00:00",
          "2019-03-08T00:00:00",
          "2019-03-11T00:00:00",
          "2019-03-12T00:00:00",
          "2019-03-13T00:00:00",
          "2019-03-14T00:00:00",
          "2019-03-15T00:00:00",
          "2019-03-18T00:00:00",
          "2019-03-19T00:00:00",
          "2019-03-20T00:00:00",
          "2019-03-21T00:00:00",
          "2019-03-22T00:00:00",
          "2019-03-25T00:00:00",
          "2019-03-26T00:00:00",
          "2019-03-27T00:00:00",
          "2019-03-28T00:00:00",
          "2019-03-29T00:00:00",
          "2019-04-01T00:00:00",
          "2019-04-02T00:00:00",
          "2019-04-03T00:00:00",
          "2019-04-04T00:00:00",
          "2019-04-05T00:00:00",
          "2019-04-08T00:00:00",
          "2019-04-09T00:00:00",
          "2019-04-10T00:00:00",
          "2019-04-11T00:00:00",
          "2019-04-12T00:00:00",
          "2019-04-15T00:00:00",
          "2019-04-16T00:00:00",
          "2019-04-17T00:00:00",
          "2019-04-18T00:00:00",
          "2019-04-22T00:00:00",
          "2019-04-23T00:00:00",
          "2019-04-24T00:00:00",
          "2019-04-25T00:00:00",
          "2019-04-26T00:00:00",
          "2019-04-29T00:00:00",
          "2019-04-30T00:00:00",
          "2019-05-01T00:00:00",
          "2019-05-02T00:00:00",
          "2019-05-03T00:00:00",
          "2019-05-06T00:00:00",
          "2019-05-07T00:00:00",
          "2019-05-08T00:00:00",
          "2019-05-09T00:00:00",
          "2019-05-10T00:00:00",
          "2019-05-13T00:00:00",
          "2019-05-14T00:00:00",
          "2019-05-15T00:00:00",
          "2019-05-16T00:00:00",
          "2019-05-17T00:00:00",
          "2019-05-20T00:00:00",
          "2019-05-21T00:00:00",
          "2019-05-22T00:00:00",
          "2019-05-23T00:00:00",
          "2019-05-24T00:00:00",
          "2019-05-28T00:00:00",
          "2019-05-29T00:00:00",
          "2019-05-30T00:00:00",
          "2019-05-31T00:00:00",
          "2019-06-03T00:00:00",
          "2019-06-04T00:00:00",
          "2019-06-05T00:00:00",
          "2019-06-06T00:00:00",
          "2019-06-07T00:00:00",
          "2019-06-10T00:00:00",
          "2019-06-11T00:00:00",
          "2019-06-12T00:00:00",
          "2019-06-13T00:00:00",
          "2019-06-14T00:00:00",
          "2019-06-17T00:00:00",
          "2019-06-18T00:00:00",
          "2019-06-19T00:00:00",
          "2019-06-20T00:00:00",
          "2019-06-21T00:00:00",
          "2019-06-24T00:00:00",
          "2019-06-25T00:00:00",
          "2019-06-26T00:00:00",
          "2019-06-27T00:00:00",
          "2019-06-28T00:00:00",
          "2019-07-01T00:00:00",
          "2019-07-02T00:00:00",
          "2019-07-03T00:00:00",
          "2019-07-05T00:00:00",
          "2019-07-08T00:00:00",
          "2019-07-09T00:00:00",
          "2019-07-10T00:00:00",
          "2019-07-11T00:00:00",
          "2019-07-12T00:00:00",
          "2019-07-15T00:00:00",
          "2019-07-16T00:00:00",
          "2019-07-17T00:00:00",
          "2019-07-18T00:00:00",
          "2019-07-19T00:00:00",
          "2019-07-22T00:00:00",
          "2019-07-23T00:00:00",
          "2019-07-24T00:00:00",
          "2019-07-25T00:00:00",
          "2019-07-26T00:00:00",
          "2019-07-29T00:00:00",
          "2019-07-30T00:00:00",
          "2019-07-31T00:00:00",
          "2019-08-01T00:00:00",
          "2019-08-02T00:00:00",
          "2019-08-05T00:00:00",
          "2019-08-06T00:00:00",
          "2019-08-07T00:00:00",
          "2019-08-08T00:00:00",
          "2019-08-09T00:00:00",
          "2019-08-12T00:00:00",
          "2019-08-13T00:00:00",
          "2019-08-14T00:00:00",
          "2019-08-15T00:00:00",
          "2019-08-16T00:00:00",
          "2019-08-19T00:00:00",
          "2019-08-20T00:00:00",
          "2019-08-21T00:00:00",
          "2019-08-22T00:00:00",
          "2019-08-23T00:00:00",
          "2019-08-26T00:00:00",
          "2019-08-27T00:00:00",
          "2019-08-28T00:00:00",
          "2019-08-29T00:00:00",
          "2019-08-30T00:00:00",
          "2019-09-03T00:00:00",
          "2019-09-04T00:00:00",
          "2019-09-05T00:00:00",
          "2019-09-06T00:00:00",
          "2019-09-09T00:00:00",
          "2019-09-10T00:00:00",
          "2019-09-11T00:00:00",
          "2019-09-12T00:00:00",
          "2019-09-13T00:00:00",
          "2019-09-16T00:00:00",
          "2019-09-17T00:00:00",
          "2019-09-18T00:00:00",
          "2019-09-19T00:00:00",
          "2019-09-20T00:00:00",
          "2019-09-23T00:00:00",
          "2019-09-24T00:00:00",
          "2019-09-25T00:00:00",
          "2019-09-26T00:00:00",
          "2019-09-27T00:00:00",
          "2019-09-30T00:00:00",
          "2019-10-01T00:00:00",
          "2019-10-02T00:00:00",
          "2019-10-03T00:00:00",
          "2019-10-04T00:00:00",
          "2019-10-07T00:00:00",
          "2019-10-08T00:00:00",
          "2019-10-09T00:00:00",
          "2019-10-10T00:00:00",
          "2019-10-11T00:00:00",
          "2019-10-14T00:00:00",
          "2019-10-15T00:00:00",
          "2019-10-16T00:00:00",
          "2019-10-17T00:00:00",
          "2019-10-18T00:00:00",
          "2019-10-21T00:00:00",
          "2019-10-22T00:00:00",
          "2019-10-23T00:00:00",
          "2019-10-24T00:00:00",
          "2019-10-25T00:00:00",
          "2019-10-28T00:00:00",
          "2019-10-29T00:00:00",
          "2019-10-30T00:00:00",
          "2019-10-31T00:00:00",
          "2019-11-01T00:00:00",
          "2019-11-04T00:00:00",
          "2019-11-05T00:00:00",
          "2019-11-06T00:00:00",
          "2019-11-07T00:00:00",
          "2019-11-08T00:00:00",
          "2019-11-11T00:00:00",
          "2019-11-12T00:00:00",
          "2019-11-13T00:00:00",
          "2019-11-14T00:00:00",
          "2019-11-15T00:00:00",
          "2019-11-18T00:00:00",
          "2019-11-19T00:00:00",
          "2019-11-20T00:00:00",
          "2019-11-21T00:00:00",
          "2019-11-22T00:00:00",
          "2019-11-25T00:00:00",
          "2019-11-26T00:00:00",
          "2019-11-27T00:00:00",
          "2019-11-29T00:00:00",
          "2019-12-02T00:00:00",
          "2019-12-03T00:00:00",
          "2019-12-04T00:00:00",
          "2019-12-05T00:00:00",
          "2019-12-06T00:00:00",
          "2019-12-09T00:00:00",
          "2019-12-10T00:00:00",
          "2019-12-11T00:00:00",
          "2019-12-12T00:00:00",
          "2019-12-13T00:00:00",
          "2019-12-16T00:00:00",
          "2019-12-17T00:00:00",
          "2019-12-18T00:00:00",
          "2019-12-19T00:00:00",
          "2019-12-20T00:00:00",
          "2019-12-23T00:00:00",
          "2019-12-24T00:00:00",
          "2019-12-26T00:00:00",
          "2019-12-27T00:00:00",
          "2019-12-30T00:00:00",
          "2019-12-31T00:00:00",
          "2020-01-02T00:00:00",
          "2020-01-03T00:00:00",
          "2020-01-06T00:00:00",
          "2020-01-07T00:00:00",
          "2020-01-08T00:00:00",
          "2020-01-09T00:00:00",
          "2020-01-10T00:00:00",
          "2020-01-13T00:00:00",
          "2020-01-14T00:00:00",
          "2020-01-15T00:00:00",
          "2020-01-16T00:00:00",
          "2020-01-17T00:00:00",
          "2020-01-21T00:00:00",
          "2020-01-22T00:00:00",
          "2020-01-23T00:00:00",
          "2020-01-24T00:00:00",
          "2020-01-27T00:00:00",
          "2020-01-28T00:00:00",
          "2020-01-29T00:00:00",
          "2020-01-30T00:00:00",
          "2020-01-31T00:00:00",
          "2020-02-03T00:00:00",
          "2020-02-04T00:00:00",
          "2020-02-05T00:00:00",
          "2020-02-06T00:00:00",
          "2020-02-07T00:00:00",
          "2020-02-10T00:00:00",
          "2020-02-11T00:00:00",
          "2020-02-12T00:00:00",
          "2020-02-13T00:00:00",
          "2020-02-14T00:00:00",
          "2020-02-18T00:00:00",
          "2020-02-19T00:00:00",
          "2020-02-20T00:00:00",
          "2020-02-21T00:00:00",
          "2020-02-24T00:00:00",
          "2020-02-25T00:00:00",
          "2020-02-26T00:00:00",
          "2020-02-27T00:00:00",
          "2020-02-28T00:00:00",
          "2020-03-02T00:00:00",
          "2020-03-03T00:00:00",
          "2020-03-04T00:00:00",
          "2020-03-05T00:00:00",
          "2020-03-06T00:00:00",
          "2020-03-09T00:00:00",
          "2020-03-10T00:00:00",
          "2020-03-11T00:00:00",
          "2020-03-12T00:00:00",
          "2020-03-13T00:00:00",
          "2020-03-16T00:00:00",
          "2020-03-17T00:00:00",
          "2020-03-18T00:00:00",
          "2020-03-19T00:00:00",
          "2020-03-20T00:00:00",
          "2020-03-23T00:00:00",
          "2020-03-24T00:00:00",
          "2020-03-25T00:00:00",
          "2020-03-26T00:00:00",
          "2020-03-27T00:00:00",
          "2020-03-30T00:00:00",
          "2020-03-31T00:00:00",
          "2020-04-01T00:00:00",
          "2020-04-02T00:00:00",
          "2020-04-03T00:00:00",
          "2020-04-06T00:00:00",
          "2020-04-07T00:00:00",
          "2020-04-08T00:00:00",
          "2020-04-09T00:00:00",
          "2020-04-13T00:00:00",
          "2020-04-14T00:00:00",
          "2020-04-15T00:00:00",
          "2020-04-16T00:00:00",
          "2020-04-17T00:00:00",
          "2020-04-20T00:00:00",
          "2020-04-21T00:00:00",
          "2020-04-22T00:00:00",
          "2020-04-23T00:00:00",
          "2020-04-24T00:00:00",
          "2020-04-27T00:00:00",
          "2020-04-28T00:00:00",
          "2020-04-29T00:00:00",
          "2020-04-30T00:00:00",
          "2020-05-01T00:00:00",
          "2020-05-04T00:00:00",
          "2020-05-05T00:00:00",
          "2020-05-06T00:00:00",
          "2020-05-07T00:00:00",
          "2020-05-08T00:00:00",
          "2020-05-11T00:00:00",
          "2020-05-12T00:00:00",
          "2020-05-13T00:00:00",
          "2020-05-14T00:00:00",
          "2020-05-15T00:00:00",
          "2020-05-18T00:00:00",
          "2020-05-19T00:00:00",
          "2020-05-20T00:00:00",
          "2020-05-21T00:00:00",
          "2020-05-22T00:00:00",
          "2020-05-26T00:00:00",
          "2020-05-27T00:00:00",
          "2020-05-28T00:00:00",
          "2020-05-29T00:00:00",
          "2020-06-01T00:00:00",
          "2020-06-02T00:00:00",
          "2020-06-03T00:00:00",
          "2020-06-04T00:00:00",
          "2020-06-05T00:00:00",
          "2020-06-08T00:00:00",
          "2020-06-09T00:00:00",
          "2020-06-10T00:00:00",
          "2020-06-11T00:00:00",
          "2020-06-12T00:00:00",
          "2020-06-15T00:00:00",
          "2020-06-16T00:00:00",
          "2020-06-17T00:00:00",
          "2020-06-18T00:00:00",
          "2020-06-19T00:00:00",
          "2020-06-22T00:00:00",
          "2020-06-23T00:00:00",
          "2020-06-24T00:00:00",
          "2020-06-25T00:00:00",
          "2020-06-26T00:00:00",
          "2020-06-29T00:00:00",
          "2020-06-30T00:00:00",
          "2020-07-01T00:00:00",
          "2020-07-02T00:00:00",
          "2020-07-06T00:00:00",
          "2020-07-07T00:00:00",
          "2020-07-08T00:00:00",
          "2020-07-09T00:00:00",
          "2020-07-10T00:00:00",
          "2020-07-13T00:00:00",
          "2020-07-14T00:00:00",
          "2020-07-15T00:00:00",
          "2020-07-16T00:00:00",
          "2020-07-17T00:00:00",
          "2020-07-20T00:00:00",
          "2020-07-21T00:00:00",
          "2020-07-22T00:00:00",
          "2020-07-23T00:00:00",
          "2020-07-24T00:00:00",
          "2020-07-27T00:00:00",
          "2020-07-28T00:00:00",
          "2020-07-29T00:00:00",
          "2020-07-30T00:00:00",
          "2020-07-31T00:00:00",
          "2020-08-03T00:00:00",
          "2020-08-04T00:00:00",
          "2020-08-05T00:00:00",
          "2020-08-06T00:00:00",
          "2020-08-07T00:00:00",
          "2020-08-10T00:00:00",
          "2020-08-11T00:00:00",
          "2020-08-12T00:00:00",
          "2020-08-13T00:00:00",
          "2020-08-14T00:00:00",
          "2020-08-17T00:00:00",
          "2020-08-18T00:00:00",
          "2020-08-19T00:00:00",
          "2020-08-20T00:00:00",
          "2020-08-21T00:00:00",
          "2020-08-24T00:00:00",
          "2020-08-25T00:00:00",
          "2020-08-26T00:00:00",
          "2020-08-27T00:00:00",
          "2020-08-28T00:00:00",
          "2020-08-31T00:00:00",
          "2020-09-01T00:00:00",
          "2020-09-02T00:00:00",
          "2020-09-03T00:00:00",
          "2020-09-04T00:00:00",
          "2020-09-08T00:00:00",
          "2020-09-09T00:00:00",
          "2020-09-10T00:00:00",
          "2020-09-11T00:00:00",
          "2020-09-14T00:00:00",
          "2020-09-15T00:00:00",
          "2020-09-16T00:00:00",
          "2020-09-17T00:00:00",
          "2020-09-18T00:00:00"
         ],
         "xaxis": "x",
         "y": [
          12,
          10,
          16,
          19,
          22,
          27,
          31,
          30,
          28,
          31,
          36,
          44,
          51,
          51,
          55,
          58,
          58,
          55,
          55,
          58,
          58,
          61,
          62,
          64,
          63,
          63,
          63,
          62,
          67,
          65,
          67,
          67,
          69,
          70,
          70,
          69,
          70,
          70,
          72,
          72,
          71,
          65,
          63,
          61,
          58,
          55,
          59,
          59,
          60,
          60,
          65,
          67,
          67,
          64,
          64,
          59,
          55,
          51,
          52,
          48,
          49,
          56,
          56,
          64,
          70,
          74,
          72,
          70,
          72,
          68,
          72,
          70,
          69,
          71,
          70,
          71,
          73,
          70,
          71,
          72,
          69,
          65,
          65,
          59,
          58,
          40,
          42,
          42,
          40,
          41,
          35,
          35,
          35,
          37,
          36,
          33,
          34,
          32,
          28,
          27,
          23,
          25,
          24,
          24,
          25,
          28,
          29,
          29,
          32,
          37,
          36,
          34,
          39,
          38,
          40,
          44,
          42,
          45,
          52,
          50,
          44,
          48,
          47,
          50,
          55,
          62,
          62,
          61,
          59,
          56,
          58,
          62,
          64,
          57,
          55,
          47,
          47,
          44,
          44,
          50,
          57,
          55,
          60,
          58,
          53,
          48,
          43,
          36,
          22,
          27,
          25,
          25,
          25,
          23,
          27,
          21,
          19,
          20,
          26,
          23,
          25,
          25,
          18,
          19,
          16,
          18,
          26,
          23,
          25,
          28,
          39,
          35,
          45,
          55,
          57,
          65,
          68,
          67,
          66,
          66,
          63,
          58,
          59,
          54,
          59,
          57,
          52,
          54,
          48,
          34,
          29,
          32,
          30,
          29,
          30,
          36,
          42,
          42,
          42,
          47,
          50,
          50,
          56,
          59,
          55,
          57,
          62,
          67,
          71,
          75,
          72,
          80,
          86,
          89,
          88,
          91,
          91,
          89,
          88,
          87,
          83,
          87,
          83,
          80,
          74,
          70,
          69,
          70,
          69,
          78,
          79,
          74,
          63,
          67,
          67,
          70,
          68,
          65,
          61,
          74,
          75,
          82,
          85,
          87,
          90,
          91,
          92,
          91,
          93,
          91,
          90,
          93,
          97,
          93,
          93,
          89,
          92,
          93,
          91,
          90,
          91,
          87,
          89,
          89,
          82,
          74,
          68,
          62,
          48,
          52,
          53,
          56,
          44,
          46,
          55,
          60,
          64,
          57,
          55,
          56,
          59,
          58,
          55,
          51,
          53,
          50,
          44,
          29,
          22,
          21,
          13,
          10,
          14,
          10,
          15,
          9,
          7,
          3,
          6,
          4,
          2,
          5,
          3,
          4,
          5,
          7,
          8,
          5,
          13,
          17,
          22,
          23,
          25,
          25,
          22,
          21,
          22,
          27,
          25,
          31,
          43,
          37,
          45,
          41,
          42,
          44,
          41,
          40,
          40,
          40,
          39,
          42,
          41,
          47,
          47,
          42,
          44,
          44,
          40,
          40,
          45,
          44,
          39,
          39,
          38,
          39,
          47,
          48,
          52,
          52,
          50,
          50,
          53,
          50,
          52,
          58,
          58,
          60,
          62,
          66,
          67,
          67,
          67,
          56,
          54,
          53,
          52,
          52,
          51,
          52,
          52,
          52,
          48,
          49,
          45,
          48,
          47,
          48,
          50,
          51,
          49,
          52,
          53,
          59,
          53,
          61,
          62,
          62,
          63,
          65,
          65,
          65,
          68,
          63,
          65,
          63,
          64,
          62,
          65,
          67,
          67,
          70,
          73,
          72,
          75,
          71,
          73,
          72,
          72,
          71,
          70,
          68,
          70,
          70,
          71,
          73,
          74,
          76,
          77,
          74,
          77,
          78,
          60,
          59,
          55,
          65,
          59,
          58,
          59,
          59,
          56,
          53,
          52
         ],
         "yaxis": "y2"
        }
       ],
       "layout": {
        "template": {
         "data": {
          "bar": [
           {
            "error_x": {
             "color": "#2a3f5f"
            },
            "error_y": {
             "color": "#2a3f5f"
            },
            "marker": {
             "line": {
              "color": "#E5ECF6",
              "width": 0.5
             },
             "pattern": {
              "fillmode": "overlay",
              "size": 10,
              "solidity": 0.2
             }
            },
            "type": "bar"
           }
          ],
          "barpolar": [
           {
            "marker": {
             "line": {
              "color": "#E5ECF6",
              "width": 0.5
             },
             "pattern": {
              "fillmode": "overlay",
              "size": 10,
              "solidity": 0.2
             }
            },
            "type": "barpolar"
           }
          ],
          "carpet": [
           {
            "aaxis": {
             "endlinecolor": "#2a3f5f",
             "gridcolor": "white",
             "linecolor": "white",
             "minorgridcolor": "white",
             "startlinecolor": "#2a3f5f"
            },
            "baxis": {
             "endlinecolor": "#2a3f5f",
             "gridcolor": "white",
             "linecolor": "white",
             "minorgridcolor": "white",
             "startlinecolor": "#2a3f5f"
            },
            "type": "carpet"
           }
          ],
          "choropleth": [
           {
            "colorbar": {
             "outlinewidth": 0,
             "ticks": ""
            },
            "type": "choropleth"
           }
          ],
          "contour": [
           {
            "colorbar": {
             "outlinewidth": 0,
             "ticks": ""
            },
            "colorscale": [
             [
              0,
              "#0d0887"
             ],
             [
              0.1111111111111111,
              "#46039f"
             ],
             [
              0.2222222222222222,
              "#7201a8"
             ],
             [
              0.3333333333333333,
              "#9c179e"
             ],
             [
              0.4444444444444444,
              "#bd3786"
             ],
             [
              0.5555555555555556,
              "#d8576b"
             ],
             [
              0.6666666666666666,
              "#ed7953"
             ],
             [
              0.7777777777777778,
              "#fb9f3a"
             ],
             [
              0.8888888888888888,
              "#fdca26"
             ],
             [
              1,
              "#f0f921"
             ]
            ],
            "type": "contour"
           }
          ],
          "contourcarpet": [
           {
            "colorbar": {
             "outlinewidth": 0,
             "ticks": ""
            },
            "type": "contourcarpet"
           }
          ],
          "heatmap": [
           {
            "colorbar": {
             "outlinewidth": 0,
             "ticks": ""
            },
            "colorscale": [
             [
              0,
              "#0d0887"
             ],
             [
              0.1111111111111111,
              "#46039f"
             ],
             [
              0.2222222222222222,
              "#7201a8"
             ],
             [
              0.3333333333333333,
              "#9c179e"
             ],
             [
              0.4444444444444444,
              "#bd3786"
             ],
             [
              0.5555555555555556,
              "#d8576b"
             ],
             [
              0.6666666666666666,
              "#ed7953"
             ],
             [
              0.7777777777777778,
              "#fb9f3a"
             ],
             [
              0.8888888888888888,
              "#fdca26"
             ],
             [
              1,
              "#f0f921"
             ]
            ],
            "type": "heatmap"
           }
          ],
          "heatmapgl": [
           {
            "colorbar": {
             "outlinewidth": 0,
             "ticks": ""
            },
            "colorscale": [
             [
              0,
              "#0d0887"
             ],
             [
              0.1111111111111111,
              "#46039f"
             ],
             [
              0.2222222222222222,
              "#7201a8"
             ],
             [
              0.3333333333333333,
              "#9c179e"
             ],
             [
              0.4444444444444444,
              "#bd3786"
             ],
             [
              0.5555555555555556,
              "#d8576b"
             ],
             [
              0.6666666666666666,
              "#ed7953"
             ],
             [
              0.7777777777777778,
              "#fb9f3a"
             ],
             [
              0.8888888888888888,
              "#fdca26"
             ],
             [
              1,
              "#f0f921"
             ]
            ],
            "type": "heatmapgl"
           }
          ],
          "histogram": [
           {
            "marker": {
             "pattern": {
              "fillmode": "overlay",
              "size": 10,
              "solidity": 0.2
             }
            },
            "type": "histogram"
           }
          ],
          "histogram2d": [
           {
            "colorbar": {
             "outlinewidth": 0,
             "ticks": ""
            },
            "colorscale": [
             [
              0,
              "#0d0887"
             ],
             [
              0.1111111111111111,
              "#46039f"
             ],
             [
              0.2222222222222222,
              "#7201a8"
             ],
             [
              0.3333333333333333,
              "#9c179e"
             ],
             [
              0.4444444444444444,
              "#bd3786"
             ],
             [
              0.5555555555555556,
              "#d8576b"
             ],
             [
              0.6666666666666666,
              "#ed7953"
             ],
             [
              0.7777777777777778,
              "#fb9f3a"
             ],
             [
              0.8888888888888888,
              "#fdca26"
             ],
             [
              1,
              "#f0f921"
             ]
            ],
            "type": "histogram2d"
           }
          ],
          "histogram2dcontour": [
           {
            "colorbar": {
             "outlinewidth": 0,
             "ticks": ""
            },
            "colorscale": [
             [
              0,
              "#0d0887"
             ],
             [
              0.1111111111111111,
              "#46039f"
             ],
             [
              0.2222222222222222,
              "#7201a8"
             ],
             [
              0.3333333333333333,
              "#9c179e"
             ],
             [
              0.4444444444444444,
              "#bd3786"
             ],
             [
              0.5555555555555556,
              "#d8576b"
             ],
             [
              0.6666666666666666,
              "#ed7953"
             ],
             [
              0.7777777777777778,
              "#fb9f3a"
             ],
             [
              0.8888888888888888,
              "#fdca26"
             ],
             [
              1,
              "#f0f921"
             ]
            ],
            "type": "histogram2dcontour"
           }
          ],
          "mesh3d": [
           {
            "colorbar": {
             "outlinewidth": 0,
             "ticks": ""
            },
            "type": "mesh3d"
           }
          ],
          "parcoords": [
           {
            "line": {
             "colorbar": {
              "outlinewidth": 0,
              "ticks": ""
             }
            },
            "type": "parcoords"
           }
          ],
          "pie": [
           {
            "automargin": true,
            "type": "pie"
           }
          ],
          "scatter": [
           {
            "marker": {
             "colorbar": {
              "outlinewidth": 0,
              "ticks": ""
             }
            },
            "type": "scatter"
           }
          ],
          "scatter3d": [
           {
            "line": {
             "colorbar": {
              "outlinewidth": 0,
              "ticks": ""
             }
            },
            "marker": {
             "colorbar": {
              "outlinewidth": 0,
              "ticks": ""
             }
            },
            "type": "scatter3d"
           }
          ],
          "scattercarpet": [
           {
            "marker": {
             "colorbar": {
              "outlinewidth": 0,
              "ticks": ""
             }
            },
            "type": "scattercarpet"
           }
          ],
          "scattergeo": [
           {
            "marker": {
             "colorbar": {
              "outlinewidth": 0,
              "ticks": ""
             }
            },
            "type": "scattergeo"
           }
          ],
          "scattergl": [
           {
            "marker": {
             "colorbar": {
              "outlinewidth": 0,
              "ticks": ""
             }
            },
            "type": "scattergl"
           }
          ],
          "scattermapbox": [
           {
            "marker": {
             "colorbar": {
              "outlinewidth": 0,
              "ticks": ""
             }
            },
            "type": "scattermapbox"
           }
          ],
          "scatterpolar": [
           {
            "marker": {
             "colorbar": {
              "outlinewidth": 0,
              "ticks": ""
             }
            },
            "type": "scatterpolar"
           }
          ],
          "scatterpolargl": [
           {
            "marker": {
             "colorbar": {
              "outlinewidth": 0,
              "ticks": ""
             }
            },
            "type": "scatterpolargl"
           }
          ],
          "scatterternary": [
           {
            "marker": {
             "colorbar": {
              "outlinewidth": 0,
              "ticks": ""
             }
            },
            "type": "scatterternary"
           }
          ],
          "surface": [
           {
            "colorbar": {
             "outlinewidth": 0,
             "ticks": ""
            },
            "colorscale": [
             [
              0,
              "#0d0887"
             ],
             [
              0.1111111111111111,
              "#46039f"
             ],
             [
              0.2222222222222222,
              "#7201a8"
             ],
             [
              0.3333333333333333,
              "#9c179e"
             ],
             [
              0.4444444444444444,
              "#bd3786"
             ],
             [
              0.5555555555555556,
              "#d8576b"
             ],
             [
              0.6666666666666666,
              "#ed7953"
             ],
             [
              0.7777777777777778,
              "#fb9f3a"
             ],
             [
              0.8888888888888888,
              "#fdca26"
             ],
             [
              1,
              "#f0f921"
             ]
            ],
            "type": "surface"
           }
          ],
          "table": [
           {
            "cells": {
             "fill": {
              "color": "#EBF0F8"
             },
             "line": {
              "color": "white"
             }
            },
            "header": {
             "fill": {
              "color": "#C8D4E3"
             },
             "line": {
              "color": "white"
             }
            },
            "type": "table"
           }
          ]
         },
         "layout": {
          "annotationdefaults": {
           "arrowcolor": "#2a3f5f",
           "arrowhead": 0,
           "arrowwidth": 1
          },
          "autotypenumbers": "strict",
          "coloraxis": {
           "colorbar": {
            "outlinewidth": 0,
            "ticks": ""
           }
          },
          "colorscale": {
           "diverging": [
            [
             0,
             "#8e0152"
            ],
            [
             0.1,
             "#c51b7d"
            ],
            [
             0.2,
             "#de77ae"
            ],
            [
             0.3,
             "#f1b6da"
            ],
            [
             0.4,
             "#fde0ef"
            ],
            [
             0.5,
             "#f7f7f7"
            ],
            [
             0.6,
             "#e6f5d0"
            ],
            [
             0.7,
             "#b8e186"
            ],
            [
             0.8,
             "#7fbc41"
            ],
            [
             0.9,
             "#4d9221"
            ],
            [
             1,
             "#276419"
            ]
           ],
           "sequential": [
            [
             0,
             "#0d0887"
            ],
            [
             0.1111111111111111,
             "#46039f"
            ],
            [
             0.2222222222222222,
             "#7201a8"
            ],
            [
             0.3333333333333333,
             "#9c179e"
            ],
            [
             0.4444444444444444,
             "#bd3786"
            ],
            [
             0.5555555555555556,
             "#d8576b"
            ],
            [
             0.6666666666666666,
             "#ed7953"
            ],
            [
             0.7777777777777778,
             "#fb9f3a"
            ],
            [
             0.8888888888888888,
             "#fdca26"
            ],
            [
             1,
             "#f0f921"
            ]
           ],
           "sequentialminus": [
            [
             0,
             "#0d0887"
            ],
            [
             0.1111111111111111,
             "#46039f"
            ],
            [
             0.2222222222222222,
             "#7201a8"
            ],
            [
             0.3333333333333333,
             "#9c179e"
            ],
            [
             0.4444444444444444,
             "#bd3786"
            ],
            [
             0.5555555555555556,
             "#d8576b"
            ],
            [
             0.6666666666666666,
             "#ed7953"
            ],
            [
             0.7777777777777778,
             "#fb9f3a"
            ],
            [
             0.8888888888888888,
             "#fdca26"
            ],
            [
             1,
             "#f0f921"
            ]
           ]
          },
          "colorway": [
           "#636efa",
           "#EF553B",
           "#00cc96",
           "#ab63fa",
           "#FFA15A",
           "#19d3f3",
           "#FF6692",
           "#B6E880",
           "#FF97FF",
           "#FECB52"
          ],
          "font": {
           "color": "#2a3f5f"
          },
          "geo": {
           "bgcolor": "white",
           "lakecolor": "white",
           "landcolor": "#E5ECF6",
           "showlakes": true,
           "showland": true,
           "subunitcolor": "white"
          },
          "hoverlabel": {
           "align": "left"
          },
          "hovermode": "closest",
          "mapbox": {
           "style": "light"
          },
          "paper_bgcolor": "white",
          "plot_bgcolor": "#E5ECF6",
          "polar": {
           "angularaxis": {
            "gridcolor": "white",
            "linecolor": "white",
            "ticks": ""
           },
           "bgcolor": "#E5ECF6",
           "radialaxis": {
            "gridcolor": "white",
            "linecolor": "white",
            "ticks": ""
           }
          },
          "scene": {
           "xaxis": {
            "backgroundcolor": "#E5ECF6",
            "gridcolor": "white",
            "gridwidth": 2,
            "linecolor": "white",
            "showbackground": true,
            "ticks": "",
            "zerolinecolor": "white"
           },
           "yaxis": {
            "backgroundcolor": "#E5ECF6",
            "gridcolor": "white",
            "gridwidth": 2,
            "linecolor": "white",
            "showbackground": true,
            "ticks": "",
            "zerolinecolor": "white"
           },
           "zaxis": {
            "backgroundcolor": "#E5ECF6",
            "gridcolor": "white",
            "gridwidth": 2,
            "linecolor": "white",
            "showbackground": true,
            "ticks": "",
            "zerolinecolor": "white"
           }
          },
          "shapedefaults": {
           "line": {
            "color": "#2a3f5f"
           }
          },
          "ternary": {
           "aaxis": {
            "gridcolor": "white",
            "linecolor": "white",
            "ticks": ""
           },
           "baxis": {
            "gridcolor": "white",
            "linecolor": "white",
            "ticks": ""
           },
           "bgcolor": "#E5ECF6",
           "caxis": {
            "gridcolor": "white",
            "linecolor": "white",
            "ticks": ""
           }
          },
          "title": {
           "x": 0.05
          },
          "xaxis": {
           "automargin": true,
           "gridcolor": "white",
           "linecolor": "white",
           "ticks": "",
           "title": {
            "standoff": 15
           },
           "zerolinecolor": "white",
           "zerolinewidth": 2
          },
          "yaxis": {
           "automargin": true,
           "gridcolor": "white",
           "linecolor": "white",
           "ticks": "",
           "title": {
            "standoff": 15
           },
           "zerolinecolor": "white",
           "zerolinewidth": 2
          }
         }
        },
        "xaxis": {
         "anchor": "y",
         "domain": [
          0,
          0.94
         ]
        },
        "yaxis": {
         "anchor": "x",
         "domain": [
          0,
          1
         ]
        },
        "yaxis2": {
         "anchor": "x",
         "overlaying": "y",
         "side": "right"
        }
       }
      }
     },
     "metadata": {},
     "output_type": "display_data"
    }
   ],
   "source": [
    "small_data=data.loc[data['Date'] > \"2019\"]\n",
    "fig = make_subplots(specs=[[{'secondary_y': True}]])\n",
    "fig.add_trace(go.Scatter(x=small_data['Date'], y= small_data['Adj Close']), secondary_y=False)  \n",
    "fig.add_trace(go.Scatter(x=small_data['Date'], y= small_data['Fear Greed']), secondary_y=True)  "
   ]
  }
 ],
 "metadata": {
  "interpreter": {
   "hash": "2a430b9512b76f515c6b8e583ffdf184e6a83dc665bc85b55c114d9511feceb9"
  },
  "kernelspec": {
   "display_name": "Python 3.8.5 64-bit ('base': conda)",
   "language": "python",
   "name": "python3"
  },
  "language_info": {
   "codemirror_mode": {
    "name": "ipython",
    "version": 3
   },
   "file_extension": ".py",
   "mimetype": "text/x-python",
   "name": "python",
   "nbconvert_exporter": "python",
   "pygments_lexer": "ipython3",
   "version": "3.8.5"
  },
  "orig_nbformat": 4
 },
 "nbformat": 4,
 "nbformat_minor": 2
}
